{
  "cells": [
    {
      "cell_type": "markdown",
      "metadata": {
        "id": "view-in-github",
        "colab_type": "text"
      },
      "source": [
        "<a href=\"https://colab.research.google.com/github/aswathy7576/BigData-Analytics-BankMarketing/blob/main/Bank_Marketing_Analytics_Pyspark_7153.ipynb\" target=\"_parent\"><img src=\"https://colab.research.google.com/assets/colab-badge.svg\" alt=\"Open In Colab\"/></a>"
      ]
    },
    {
      "cell_type": "markdown",
      "source": [
        "\n",
        "\n",
        "TERM DEPOSIT\n",
        "\n",
        "    Term deposit is a deposit account type available in a financial institution where money is locked up for some fixed period of time.\n",
        "    Term deposits are usually short-term deposits with maturities ranging from one month to a few years.\n",
        "\n",
        "AIM\n",
        "\n",
        "    USING THE GIVEN DATASET AND DEVELOPING A ML MODEL OUT OF IT WITH TARGET: DEPOSIT (YES /NO) FOR CLASSIFYING A NEW CUSTOMER BASED ON GIVEN FEATURES AND ALSO DETERMINING THE MOST RELEVANT FEATURE OF CLASSIFICATION\n",
        "\n",
        "ABOUT NOTEBOOK\n",
        "\n",
        "NOTEBOOK SECTIONS :\n",
        "\n",
        "    \n",
        "\n",
        "    1) PYSPARK INSTALLATION AND SETUP\n",
        "    2)CHECKING PYSPARK SETUP\n",
        "    3) LOADING DATATASET AND DERIVE INFORMATION(DROPPING IRRELEVANT FEATURES)\n",
        "    4) PRE-PROCESSING OF DATASET\n",
        "      1) IDENTIFYING DUPLICATES\n",
        "      2) IDENTIFYING NULL VALUES\n",
        "      3) REMOVAL OF \"UNKNOWN\" VALUES\n",
        "      4) RENAMING LABEL COLUMN (\"deposit\" to \"Subscribed\")\n",
        "      5) INDEXING AND ENCODING CATEGORICAL VARIABLES\n",
        "      6) NORMALISATION OF ENCODED COLUMNS\n",
        "    5)EXPLORATORY DATA ANALYSIS -DATA VISUALIZATION\n",
        "    6)SPLITTING DATA INTO TRAINING AND TESTING SETS\n",
        "    7)MACHINE LEARNING MODEL BUILDING & EVALUATION\n",
        "      1)LOGISTIC REGRESSION\n",
        "      2)DECISION TREE CLASSIFIER\n",
        "      3)NAIVE BAYES CLASSIFIER\n",
        "      4)UNSUPERVISED-KMEANS CLUSTERING\n",
        "    8) FINDING MOST IMPORTANT FEATURES OF CLASSIFICATION OF DEPOSIT\n",
        "    9) MODEL EVALUATION\n",
        "\n",
        "\n"
      ],
      "metadata": {
        "id": "woFgHzWvyd8w"
      }
    },
    {
      "cell_type": "code",
      "execution_count": null,
      "metadata": {
        "id": "eK5KUqZ87EjW",
        "colab": {
          "base_uri": "https://localhost:8080/"
        },
        "outputId": "4196184d-626b-4ea6-abbc-4d0b72b2062d"
      },
      "outputs": [
        {
          "output_type": "stream",
          "name": "stdout",
          "text": [
            "Mounted at /content/drive/\n"
          ]
        }
      ],
      "source": [
        "from google.colab import drive\n",
        "import os\n",
        "drive.mount('/content/drive/')\n",
        "#!ls\n",
        "\n",
        "os.chdir(\"/content/drive/My Drive/7153\")\n",
        "\n",
        "#!ls\n",
        "\n",
        "#https://drive.google.com/drive/folders/1Uy9FuGZ5i20ANW489QX5YknJCgUYFOrE?usp=sharing"
      ]
    },
    {
      "cell_type": "code",
      "execution_count": null,
      "metadata": {
        "id": "SsXPhYvqkkrf",
        "colab": {
          "base_uri": "https://localhost:8080/"
        },
        "outputId": "057b4392-2a2c-4650-e3d6-d4ab1477ab21"
      },
      "outputs": [
        {
          "output_type": "stream",
          "name": "stdout",
          "text": [
            "'7153 CEM.docx'\t\t\t\t   spark-3.0.0-bin-hadoop3.2\n",
            " bank-additional-full.csv\t\t   spark-3.0.0-bin-hadoop3.2.tgz\n",
            " bank.csv\t\t\t\t   spark-3.0.0-bin-hadoop3.2.tgz.1\n",
            " bank-full.csv\t\t\t\t   spark-3.0.0-bin-hadoop3.2.tgz.2\n",
            "'Bank Marketing Analytics Pyspark.ipynb'   spark-3.0.0-bin-hadoop3.2.tgz.3\n",
            " bank_new.csv\t\t\t\t   spark-3.0.0-bin-hadoop3.2.tgz.4\n",
            " master.csv\t\t\t\t   spark-warehouse\n"
          ]
        }
      ],
      "source": [
        "!ls"
      ]
    },
    {
      "cell_type": "markdown",
      "source": [
        "## **1.PYSPARK INSTALLATION AND SETUP**"
      ],
      "metadata": {
        "id": "fnTgGNaSSO8r"
      }
    },
    {
      "cell_type": "code",
      "execution_count": null,
      "metadata": {
        "id": "5-NDy5LXQWNa"
      },
      "outputs": [],
      "source": [
        "#!pip install wget\n"
      ]
    },
    {
      "cell_type": "code",
      "source": [
        "!apt-get install openjdk-8-jdk-headless -qq"
      ],
      "metadata": {
        "id": "qWOhNgZCGnEb",
        "colab": {
          "base_uri": "https://localhost:8080/"
        },
        "outputId": "c69720f9-2a98-4463-8dbf-ecf1d4b406e0"
      },
      "execution_count": null,
      "outputs": [
        {
          "output_type": "stream",
          "name": "stdout",
          "text": [
            "Selecting previously unselected package openjdk-8-jre-headless:amd64.\n",
            "(Reading database ... 123942 files and directories currently installed.)\n",
            "Preparing to unpack .../openjdk-8-jre-headless_8u342-b07-0ubuntu1~18.04_amd64.deb ...\n",
            "Unpacking openjdk-8-jre-headless:amd64 (8u342-b07-0ubuntu1~18.04) ...\n",
            "Selecting previously unselected package openjdk-8-jdk-headless:amd64.\n",
            "Preparing to unpack .../openjdk-8-jdk-headless_8u342-b07-0ubuntu1~18.04_amd64.deb ...\n",
            "Unpacking openjdk-8-jdk-headless:amd64 (8u342-b07-0ubuntu1~18.04) ...\n",
            "Setting up openjdk-8-jre-headless:amd64 (8u342-b07-0ubuntu1~18.04) ...\n",
            "update-alternatives: using /usr/lib/jvm/java-8-openjdk-amd64/jre/bin/orbd to provide /usr/bin/orbd (orbd) in auto mode\n",
            "update-alternatives: using /usr/lib/jvm/java-8-openjdk-amd64/jre/bin/servertool to provide /usr/bin/servertool (servertool) in auto mode\n",
            "update-alternatives: using /usr/lib/jvm/java-8-openjdk-amd64/jre/bin/tnameserv to provide /usr/bin/tnameserv (tnameserv) in auto mode\n",
            "Setting up openjdk-8-jdk-headless:amd64 (8u342-b07-0ubuntu1~18.04) ...\n",
            "update-alternatives: using /usr/lib/jvm/java-8-openjdk-amd64/bin/idlj to provide /usr/bin/idlj (idlj) in auto mode\n",
            "update-alternatives: using /usr/lib/jvm/java-8-openjdk-amd64/bin/wsimport to provide /usr/bin/wsimport (wsimport) in auto mode\n",
            "update-alternatives: using /usr/lib/jvm/java-8-openjdk-amd64/bin/jsadebugd to provide /usr/bin/jsadebugd (jsadebugd) in auto mode\n",
            "update-alternatives: using /usr/lib/jvm/java-8-openjdk-amd64/bin/native2ascii to provide /usr/bin/native2ascii (native2ascii) in auto mode\n",
            "update-alternatives: using /usr/lib/jvm/java-8-openjdk-amd64/bin/javah to provide /usr/bin/javah (javah) in auto mode\n",
            "update-alternatives: using /usr/lib/jvm/java-8-openjdk-amd64/bin/clhsdb to provide /usr/bin/clhsdb (clhsdb) in auto mode\n",
            "update-alternatives: using /usr/lib/jvm/java-8-openjdk-amd64/bin/xjc to provide /usr/bin/xjc (xjc) in auto mode\n",
            "update-alternatives: using /usr/lib/jvm/java-8-openjdk-amd64/bin/hsdb to provide /usr/bin/hsdb (hsdb) in auto mode\n",
            "update-alternatives: using /usr/lib/jvm/java-8-openjdk-amd64/bin/schemagen to provide /usr/bin/schemagen (schemagen) in auto mode\n",
            "update-alternatives: using /usr/lib/jvm/java-8-openjdk-amd64/bin/extcheck to provide /usr/bin/extcheck (extcheck) in auto mode\n",
            "update-alternatives: using /usr/lib/jvm/java-8-openjdk-amd64/bin/jhat to provide /usr/bin/jhat (jhat) in auto mode\n",
            "update-alternatives: using /usr/lib/jvm/java-8-openjdk-amd64/bin/wsgen to provide /usr/bin/wsgen (wsgen) in auto mode\n"
          ]
        }
      ]
    },
    {
      "cell_type": "code",
      "execution_count": null,
      "metadata": {
        "id": "jsJEweQiR0c5",
        "colab": {
          "base_uri": "https://localhost:8080/"
        },
        "outputId": "5e74c241-7cb2-496e-f72b-5638fbd10ee7"
      },
      "outputs": [
        {
          "output_type": "stream",
          "name": "stdout",
          "text": [
            "openjdk version \"11.0.16\" 2022-07-19\n",
            "OpenJDK Runtime Environment (build 11.0.16+8-post-Ubuntu-0ubuntu118.04)\n",
            "OpenJDK 64-Bit Server VM (build 11.0.16+8-post-Ubuntu-0ubuntu118.04, mixed mode, sharing)\n"
          ]
        }
      ],
      "source": [
        "#checking the existing installed java version\n",
        "!java -version\n"
      ]
    },
    {
      "cell_type": "code",
      "execution_count": null,
      "metadata": {
        "id": "Vy_FKPtZgQ52"
      },
      "outputs": [],
      "source": [
        "#decompressing the zipped file in current directory in gdrive\n",
        "!tar xf spark-3.0.0-bin-hadoop3.2.tgz"
      ]
    },
    {
      "cell_type": "code",
      "execution_count": null,
      "metadata": {
        "id": "vJm4dqkiguWn"
      },
      "outputs": [],
      "source": [
        "#setting the environment variables for spark and java\n",
        "import os\n",
        "os.environ[\"JAVA_HOME\"]=\"/usr/lib/jvm/java-8-openjdk-amd64\"\n",
        "os.environ[\"SPARK_HOME\"]=\"/content/spark-3.0.0/spark-3.0.0-bin-hadoop3.2\"\n"
      ]
    },
    {
      "cell_type": "code",
      "execution_count": null,
      "metadata": {
        "id": "Ec2d_c7viD_2"
      },
      "outputs": [],
      "source": [
        "#installing findspark\n",
        "!pip install -q findspark\n"
      ]
    },
    {
      "cell_type": "code",
      "execution_count": null,
      "metadata": {
        "colab": {
          "base_uri": "https://localhost:8080/"
        },
        "id": "bnmmM-puiJwR",
        "outputId": "47099a03-1b84-4fa5-cd11-5692f83ddbd2"
      },
      "outputs": [
        {
          "output_type": "stream",
          "name": "stdout",
          "text": [
            "Looking in indexes: https://pypi.org/simple, https://us-python.pkg.dev/colab-wheels/public/simple/\n",
            "Collecting pyspark==3.0.0\n",
            "  Downloading pyspark-3.0.0.tar.gz (204.7 MB)\n",
            "\u001b[K     |████████████████████████████████| 204.7 MB 28 kB/s \n",
            "\u001b[?25hCollecting py4j==0.10.9\n",
            "  Downloading py4j-0.10.9-py2.py3-none-any.whl (198 kB)\n",
            "\u001b[K     |████████████████████████████████| 198 kB 67.6 MB/s \n",
            "\u001b[?25hBuilding wheels for collected packages: pyspark\n",
            "  Building wheel for pyspark (setup.py) ... \u001b[?25l\u001b[?25hdone\n",
            "  Created wheel for pyspark: filename=pyspark-3.0.0-py2.py3-none-any.whl size=205044182 sha256=c866dff16b52c7cd47463a1162e0b34e3979ccd7031b5b4dd271e253c2b57ea1\n",
            "  Stored in directory: /root/.cache/pip/wheels/4e/c5/36/aef1bb711963a619063119cc032176106827a129c0be20e301\n",
            "Successfully built pyspark\n",
            "Installing collected packages: py4j, pyspark\n",
            "Successfully installed py4j-0.10.9 pyspark-3.0.0\n"
          ]
        }
      ],
      "source": [
        "#installing the matching pyspark version\n",
        "!pip install pyspark==3.0.0"
      ]
    },
    {
      "cell_type": "code",
      "execution_count": null,
      "metadata": {
        "id": "YPTP6LDxkDSY"
      },
      "outputs": [],
      "source": [
        "import pyspark"
      ]
    },
    {
      "cell_type": "code",
      "execution_count": null,
      "metadata": {
        "colab": {
          "base_uri": "https://localhost:8080/"
        },
        "id": "FIizQWpXkF78",
        "outputId": "65ac2339-ee01-4373-9cef-0f6b940fe88b"
      },
      "outputs": [
        {
          "output_type": "stream",
          "name": "stdout",
          "text": [
            "3.0.0\n"
          ]
        }
      ],
      "source": [
        "#checking pyspark version\n",
        "print(pyspark.__version__)"
      ]
    },
    {
      "cell_type": "code",
      "execution_count": null,
      "metadata": {
        "id": "9S2h9IVdkxjB"
      },
      "outputs": [],
      "source": [
        "#adding pyspark to sys.path at run time\n",
        "import findspark\n",
        "findspark.init(\"spark-3.0.0-bin-hadoop3.2\")"
      ]
    },
    {
      "cell_type": "markdown",
      "metadata": {
        "id": "s_tj-9MJl-Fc"
      },
      "source": [
        "## **Testing Pyspark Setup and installation**\n",
        "\n",
        "\n",
        "\n"
      ]
    },
    {
      "cell_type": "code",
      "execution_count": null,
      "metadata": {
        "id": "v3LieJpzlw3j"
      },
      "outputs": [],
      "source": [
        "from pyspark.sql import SparkSession\n",
        "from pyspark import SparkConf,SparkContext"
      ]
    },
    {
      "cell_type": "code",
      "execution_count": null,
      "metadata": {
        "id": "0Wg89HyHpHYg"
      },
      "outputs": [],
      "source": [
        "spark = SparkSession.builder.master(\"local\").appName(\"Search\").config(conf=SparkConf()).getOrCreate()"
      ]
    },
    {
      "cell_type": "code",
      "execution_count": null,
      "metadata": {
        "colab": {
          "base_uri": "https://localhost:8080/"
        },
        "id": "w1bZvXlrmxG9",
        "outputId": "df43257c-5fab-4f6d-cffd-04eeeeb3ff66"
      },
      "outputs": [
        {
          "output_type": "stream",
          "name": "stderr",
          "text": [
            "/usr/local/lib/python3.7/dist-packages/pyspark/sql/session.py:378: UserWarning: inferring schema from dict is deprecated,please use pyspark.sql.Row instead\n",
            "  warnings.warn(\"inferring schema from dict is deprecated,\"\n"
          ]
        }
      ],
      "source": [
        "#creating a dataframe with columnames and value\n",
        "df=spark.createDataFrame([{\"language,usercount\" :(\"java,2000\")}])"
      ]
    },
    {
      "cell_type": "code",
      "execution_count": null,
      "metadata": {
        "colab": {
          "base_uri": "https://localhost:8080/"
        },
        "id": "ROsEWJNVp50o",
        "outputId": "03222eb8-ef76-4f71-e09c-bc58c24db18d"
      },
      "outputs": [
        {
          "output_type": "stream",
          "name": "stdout",
          "text": [
            "+------------------+\n",
            "|language,usercount|\n",
            "+------------------+\n",
            "|         java,2000|\n",
            "+------------------+\n",
            "\n"
          ]
        }
      ],
      "source": [
        "df.show(1)"
      ]
    },
    {
      "cell_type": "markdown",
      "metadata": {
        "id": "vOcMz9Jbwq_Q"
      },
      "source": [
        "# **Loading Dataset and deriving information**"
      ]
    },
    {
      "cell_type": "code",
      "execution_count": null,
      "metadata": {
        "id": "GTvJpD0X2Dc7"
      },
      "outputs": [],
      "source": [
        "spark = SparkSession.builder.appName('Bank Marketing Analytics').getOrCreate()\n",
        "\n"
      ]
    },
    {
      "cell_type": "code",
      "execution_count": null,
      "metadata": {
        "id": "4O0AOdCB2kLQ"
      },
      "outputs": [],
      "source": [
        "#creating spark dataframe from csv file\n",
        "df = spark.read.csv('bank_new.csv', header = True, inferSchema = True)\n"
      ]
    },
    {
      "cell_type": "code",
      "execution_count": null,
      "metadata": {
        "colab": {
          "base_uri": "https://localhost:8080/"
        },
        "id": "n08CltMVV8gr",
        "outputId": "cf7c4253-5f71-45c0-aba3-ede5164688a1"
      },
      "outputs": [
        {
          "output_type": "stream",
          "name": "stdout",
          "text": [
            "+---+-----------+--------+---------+-------+-------+-------+----+-------+---+-----+--------+--------+-----+--------+--------+-------+\n",
            "|age|        job| marital|education|default|balance|housing|loan|contact|day|month|duration|campaign|pdays|previous|poutcome|deposit|\n",
            "+---+-----------+--------+---------+-------+-------+-------+----+-------+---+-----+--------+--------+-----+--------+--------+-------+\n",
            "| 59|     admin.| married|secondary|     no|   2343|    yes|  no|unknown|  5|  may|    1042|       1|   -1|       0| unknown|    yes|\n",
            "| 56|     admin.| married|secondary|     no|     45|     no|  no|unknown|  5|  may|    1467|       1|   -1|       0| unknown|    yes|\n",
            "| 41| technician| married|secondary|     no|   1270|    yes|  no|unknown|  5|  may|    1389|       1|   -1|       0| unknown|    yes|\n",
            "| 55|   services| married|secondary|     no|   2476|    yes|  no|unknown|  5|  may|     579|       1|   -1|       0| unknown|    yes|\n",
            "| 54|     admin.| married| tertiary|     no|    184|     no|  no|unknown|  5|  may|     673|       2|   -1|       0| unknown|    yes|\n",
            "| 42| management|  single| tertiary|     no|      0|    yes| yes|unknown|  5|  may|     562|       2|   -1|       0| unknown|    yes|\n",
            "| 56| management| married| tertiary|     no|    830|    yes| yes|unknown|  6|  may|    1201|       1|   -1|       0| unknown|    yes|\n",
            "| 60|    retired|divorced|secondary|     no|    545|    yes|  no|unknown|  6|  may|    1030|       1|   -1|       0| unknown|    yes|\n",
            "| 37| technician| married|secondary|     no|      1|    yes|  no|unknown|  6|  may|     608|       1|   -1|       0| unknown|    yes|\n",
            "| 28|   services|  single|secondary|     no|   5090|    yes|  no|unknown|  6|  may|    1297|       3|   -1|       0| unknown|    yes|\n",
            "| 38|     admin.|  single|secondary|     no|    100|    yes|  no|unknown|  7|  may|     786|       1|   -1|       0| unknown|    yes|\n",
            "| 30|blue-collar| married|secondary|     no|    309|    yes|  no|unknown|  7|  may|    1574|       2|   -1|       0| unknown|    yes|\n",
            "| 29| management| married| tertiary|     no|    199|    yes| yes|unknown|  7|  may|    1689|       4|   -1|       0| unknown|    yes|\n",
            "| 46|blue-collar|  single| tertiary|     no|    460|    yes|  no|unknown|  7|  may|    1102|       2|   -1|       0| unknown|    yes|\n",
            "| 31| technician|  single| tertiary|     no|    703|    yes|  no|unknown|  8|  may|     943|       2|   -1|       0| unknown|    yes|\n",
            "| 35| management|divorced| tertiary|     no|   3837|    yes|  no|unknown|  8|  may|    1084|       1|   -1|       0| unknown|    yes|\n",
            "| 32|blue-collar|  single|  primary|     no|    611|    yes|  no|unknown|  8|  may|     541|       3|   -1|       0| unknown|    yes|\n",
            "| 49|   services| married|secondary|     no|     -8|    yes|  no|unknown|  8|  may|    1119|       1|   -1|       0| unknown|    yes|\n",
            "| 41|     admin.| married|secondary|     no|     55|    yes|  no|unknown|  8|  may|    1120|       2|   -1|       0| unknown|    yes|\n",
            "| 49|     admin.|divorced|secondary|     no|    168|    yes| yes|unknown|  8|  may|     513|       1|   -1|       0| unknown|    yes|\n",
            "+---+-----------+--------+---------+-------+-------+-------+----+-------+---+-----+--------+--------+-----+--------+--------+-------+\n",
            "only showing top 20 rows\n",
            "\n"
          ]
        }
      ],
      "source": [
        "\n",
        "df.show()"
      ]
    },
    {
      "cell_type": "markdown",
      "source": [],
      "metadata": {
        "id": "A2W0_6hDfoE4"
      }
    },
    {
      "cell_type": "code",
      "execution_count": null,
      "metadata": {
        "colab": {
          "base_uri": "https://localhost:8080/"
        },
        "id": "_IBM9jzUu8sa",
        "outputId": "430186bb-629c-4417-af57-117a1a014f10"
      },
      "outputs": [
        {
          "output_type": "execute_result",
          "data": {
            "text/plain": [
              "pyspark.sql.dataframe.DataFrame"
            ]
          },
          "metadata": {},
          "execution_count": 20
        }
      ],
      "source": [
        "type(df)"
      ]
    },
    {
      "cell_type": "code",
      "execution_count": null,
      "metadata": {
        "id": "0E3zihxRqMa7"
      },
      "outputs": [],
      "source": [
        "row=df.count()\n",
        "column=len(df.columns)"
      ]
    },
    {
      "cell_type": "code",
      "execution_count": null,
      "metadata": {
        "colab": {
          "base_uri": "https://localhost:8080/"
        },
        "id": "ZkC1Q0-eqcqP",
        "outputId": "06fe8fa6-6c19-477f-d26d-a9391a603a38"
      },
      "outputs": [
        {
          "output_type": "stream",
          "name": "stdout",
          "text": [
            "dimension of dataframe is (11162, 17)\n",
            "number of rows are 11162\n",
            "number of columns are 17\n"
          ]
        }
      ],
      "source": [
        "print(f\"dimension of dataframe is {(row,column)}\")\n",
        "print(f\"number of rows are {row}\")\n",
        "print(f\"number of columns are {column}\")"
      ]
    },
    {
      "cell_type": "code",
      "execution_count": null,
      "metadata": {
        "colab": {
          "base_uri": "https://localhost:8080/"
        },
        "id": "AcMZCGGE4MAn",
        "outputId": "45601c81-befc-4b0d-efb3-8acfc0924a72"
      },
      "outputs": [
        {
          "output_type": "stream",
          "name": "stdout",
          "text": [
            "+-------+------------------+-------+--------+---------+-------+------------------+-------+-----+--------+------------------+-----+------------------+------------------+------------------+------------------+--------+-------+\n",
            "|summary|               age|    job| marital|education|default|           balance|housing| loan| contact|               day|month|          duration|          campaign|             pdays|          previous|poutcome|deposit|\n",
            "+-------+------------------+-------+--------+---------+-------+------------------+-------+-----+--------+------------------+-----+------------------+------------------+------------------+------------------+--------+-------+\n",
            "|  count|             11162|  11162|   11162|    11162|  11162|             11162|  11162|11162|   11162|             11162|11162|             11162|             11162|             11162|             11162|   11162|  11162|\n",
            "|   mean|41.231947679627304|   null|    null|     null|   null|1528.5385235620856|   null| null|    null|15.658036194230425| null|371.99381831213043| 2.508421429851281| 51.33040673714388|0.8325568894463358|    null|   null|\n",
            "| stddev|11.913369192215518|   null|    null|     null|   null| 3225.413325946149|   null| null|    null| 8.420739541006462| null|347.12838571630687|2.7220771816614824|108.75828197197717| 2.292007218670508|    null|   null|\n",
            "|    min|                18| admin.|divorced|  primary|     no|             -6847|     no|   no|cellular|                 1|  apr|                 2|                 1|                -1|                 0| failure|     no|\n",
            "|    25%|                32|   null|    null|     null|   null|               122|   null| null|    null|                 8| null|               138|                 1|                -1|                 0|    null|   null|\n",
            "|    50%|                39|   null|    null|     null|   null|               550|   null| null|    null|                15| null|               255|                 2|                -1|                 0|    null|   null|\n",
            "|    75%|                49|   null|    null|     null|   null|              1708|   null| null|    null|                22| null|               496|                 3|                20|                 1|    null|   null|\n",
            "|    max|                95|unknown|  single|  unknown|    yes|             81204|    yes|  yes| unknown|                31|  sep|              3881|                63|               854|                58| unknown|    yes|\n",
            "+-------+------------------+-------+--------+---------+-------+------------------+-------+-----+--------+------------------+-----+------------------+------------------+------------------+------------------+--------+-------+\n",
            "\n"
          ]
        }
      ],
      "source": [
        "#SUMMARISING EACH COLUMN VALUES\n",
        "df.summary().show()"
      ]
    },
    {
      "cell_type": "code",
      "execution_count": null,
      "metadata": {
        "colab": {
          "base_uri": "https://localhost:8080/"
        },
        "id": "ZD9_StEf58yQ",
        "outputId": "1a2f4b82-ab6d-4607-d1e1-ad448bc41c3b"
      },
      "outputs": [
        {
          "output_type": "stream",
          "name": "stdout",
          "text": [
            "root\n",
            " |-- age: integer (nullable = true)\n",
            " |-- job: string (nullable = true)\n",
            " |-- marital: string (nullable = true)\n",
            " |-- education: string (nullable = true)\n",
            " |-- default: string (nullable = true)\n",
            " |-- balance: integer (nullable = true)\n",
            " |-- housing: string (nullable = true)\n",
            " |-- loan: string (nullable = true)\n",
            " |-- contact: string (nullable = true)\n",
            " |-- day: integer (nullable = true)\n",
            " |-- month: string (nullable = true)\n",
            " |-- duration: integer (nullable = true)\n",
            " |-- campaign: integer (nullable = true)\n",
            " |-- pdays: integer (nullable = true)\n",
            " |-- previous: integer (nullable = true)\n",
            " |-- poutcome: string (nullable = true)\n",
            " |-- deposit: string (nullable = true)\n",
            "\n"
          ]
        }
      ],
      "source": [
        "df.printSchema()"
      ]
    },
    {
      "cell_type": "code",
      "execution_count": null,
      "metadata": {
        "colab": {
          "base_uri": "https://localhost:8080/"
        },
        "id": "mGO4OhnFqvzZ",
        "outputId": "387a9e26-3037-418d-db82-a2dbf036365a"
      },
      "outputs": [
        {
          "output_type": "execute_result",
          "data": {
            "text/plain": [
              "DataFrame[summary: string, age: string, job: string, marital: string, education: string, default: string, balance: string, housing: string, loan: string, contact: string, day: string, month: string, duration: string, campaign: string, pdays: string, previous: string, poutcome: string, deposit: string]"
            ]
          },
          "metadata": {},
          "execution_count": 25
        }
      ],
      "source": [
        "df.describe()\n",
        "\n"
      ]
    },
    {
      "cell_type": "markdown",
      "source": [
        "## **Pre-Processing Of Dataset**"
      ],
      "metadata": {
        "id": "Xp8CUz7UlQlN"
      }
    },
    {
      "cell_type": "markdown",
      "source": [
        "## **1.Identifying dupilcates**"
      ],
      "metadata": {
        "id": "pcvygOU9ifwP"
      }
    },
    {
      "cell_type": "code",
      "execution_count": null,
      "metadata": {
        "colab": {
          "base_uri": "https://localhost:8080/"
        },
        "id": "zq_cGMpByqgY",
        "outputId": "ab22f400-cfc2-4d5d-90d8-531317c98f2a"
      },
      "outputs": [
        {
          "output_type": "execute_result",
          "data": {
            "text/plain": [
              "11162"
            ]
          },
          "metadata": {},
          "execution_count": 26
        }
      ],
      "source": [
        "#1.Finding the duplicates if any .Here returns same no of records so  no duplicates in dataframe\n",
        "#df.dropDuplicates().count()\n",
        "df.distinct().count()"
      ]
    },
    {
      "cell_type": "code",
      "source": [
        "df.count()"
      ],
      "metadata": {
        "colab": {
          "base_uri": "https://localhost:8080/"
        },
        "id": "_7GTdnV5-nMa",
        "outputId": "0958d7ba-8526-4182-e594-7f1c01b37ffd"
      },
      "execution_count": null,
      "outputs": [
        {
          "output_type": "execute_result",
          "data": {
            "text/plain": [
              "11162"
            ]
          },
          "metadata": {},
          "execution_count": 17
        }
      ]
    },
    {
      "cell_type": "markdown",
      "source": [
        "## **2.Identifying Null values**"
      ],
      "metadata": {
        "id": "LMat6Cc5HwtJ"
      }
    },
    {
      "cell_type": "code",
      "execution_count": null,
      "metadata": {
        "colab": {
          "base_uri": "https://localhost:8080/"
        },
        "id": "rDFL8rqCE5GF",
        "outputId": "15dbebe4-5465-4272-a297-7196e1c1f409"
      },
      "outputs": [
        {
          "output_type": "stream",
          "name": "stdout",
          "text": [
            "+---+---+-------+---------+-------+-------+-------+----+-------+---+-----+--------+--------+-----+--------+--------+-------+\n",
            "|age|job|marital|education|default|balance|housing|loan|contact|day|month|duration|campaign|pdays|previous|poutcome|deposit|\n",
            "+---+---+-------+---------+-------+-------+-------+----+-------+---+-----+--------+--------+-----+--------+--------+-------+\n",
            "|  0|  0|      0|        0|      0|      0|      0|   0|      0|  0|    0|       0|       0|    0|       0|       0|      0|\n",
            "+---+---+-------+---------+-------+-------+-------+----+-------+---+-----+--------+--------+-----+--------+--------+-------+\n",
            "\n"
          ]
        }
      ],
      "source": [
        "#checking null values\n",
        "df_col=df.columns\n",
        "from pyspark.sql.functions import col,isnan,when,count\n",
        "null_col=df.select([count(when(isnan(c) | col(c).isNull(), c)).alias(c) for c in df_col]\n",
        "   )\n",
        "null_col.show()\n",
        "\n",
        "#no null values occured"
      ]
    },
    {
      "cell_type": "markdown",
      "source": [
        "## **3.Removal of unknown column values**"
      ],
      "metadata": {
        "id": "iT8DhPOeiftF"
      }
    },
    {
      "cell_type": "code",
      "source": [
        "df.select('poutcome').distinct().collect()"
      ],
      "metadata": {
        "colab": {
          "base_uri": "https://localhost:8080/"
        },
        "id": "sT9Z5wGcvoj_",
        "outputId": "1c64e7e1-bb61-47ba-8f12-0131cbc9a9b2"
      },
      "execution_count": null,
      "outputs": [
        {
          "output_type": "execute_result",
          "data": {
            "text/plain": [
              "[Row(poutcome='success'),\n",
              " Row(poutcome='unknown'),\n",
              " Row(poutcome='other'),\n",
              " Row(poutcome='failure')]"
            ]
          },
          "metadata": {},
          "execution_count": 28
        }
      ]
    },
    {
      "cell_type": "markdown",
      "source": [],
      "metadata": {
        "id": "3D2dCZgMfXdO"
      }
    },
    {
      "cell_type": "code",
      "source": [
        "df.select('job').distinct().collect()"
      ],
      "metadata": {
        "colab": {
          "base_uri": "https://localhost:8080/"
        },
        "id": "Zg9wjcE_wfX5",
        "outputId": "5205d02a-7d5e-4177-e3a7-b95ec8625d96"
      },
      "execution_count": null,
      "outputs": [
        {
          "output_type": "execute_result",
          "data": {
            "text/plain": [
              "[Row(job='management'),\n",
              " Row(job='retired'),\n",
              " Row(job='unknown'),\n",
              " Row(job='self-employed'),\n",
              " Row(job='student'),\n",
              " Row(job='blue-collar'),\n",
              " Row(job='entrepreneur'),\n",
              " Row(job='admin.'),\n",
              " Row(job='technician'),\n",
              " Row(job='services'),\n",
              " Row(job='housemaid'),\n",
              " Row(job='unemployed')]"
            ]
          },
          "metadata": {},
          "execution_count": 24
        }
      ]
    },
    {
      "cell_type": "code",
      "source": [
        "df.select('education').distinct().collect()"
      ],
      "metadata": {
        "colab": {
          "base_uri": "https://localhost:8080/"
        },
        "id": "fBuNArWEwrtr",
        "outputId": "1046181f-cc53-45fa-97b0-a73bb2233f2d"
      },
      "execution_count": null,
      "outputs": [
        {
          "output_type": "execute_result",
          "data": {
            "text/plain": [
              "[Row(education='unknown'),\n",
              " Row(education='tertiary'),\n",
              " Row(education='secondary'),\n",
              " Row(education='primary')]"
            ]
          },
          "metadata": {},
          "execution_count": 25
        }
      ]
    },
    {
      "cell_type": "code",
      "source": [
        "df.select('contact').distinct().collect()"
      ],
      "metadata": {
        "colab": {
          "base_uri": "https://localhost:8080/"
        },
        "id": "AheGWo34w6Zc",
        "outputId": "f06cc745-b2e7-419b-f194-1299b4b6d146"
      },
      "execution_count": null,
      "outputs": [
        {
          "output_type": "execute_result",
          "data": {
            "text/plain": [
              "[Row(contact='unknown'), Row(contact='cellular'), Row(contact='telephone')]"
            ]
          },
          "metadata": {},
          "execution_count": 26
        }
      ]
    },
    {
      "cell_type": "code",
      "execution_count": null,
      "metadata": {
        "id": "gggKhqDtpSgt"
      },
      "outputs": [],
      "source": [
        "#Creating a temporary Table named \"bank\" for filtering the columns\n",
        "df.registerTempTable(\"bank\")\n",
        "\n",
        "#Filtering unknown values from all the columns using  \"AND\" \"OR\" in sparksql\n",
        "#with this query ,The \"other\"attrinbute in poutcome also gets removed as it is not valid for data analysis\n",
        "sqlfilter=spark.sql(\"SELECT * FROM bank WHERE job!='unknown' AND education!='unknown' AND marital!='unknown' AND loan!='unknown' AND (poutcome =='failure' OR poutcome == 'success')\")"
      ]
    },
    {
      "cell_type": "code",
      "execution_count": null,
      "metadata": {
        "id": "UUnzW1DBICCI"
      },
      "outputs": [],
      "source": [
        "#Storing in new variable to avoid nonetype error\n",
        "df2=sqlfilter"
      ]
    },
    {
      "cell_type": "code",
      "execution_count": null,
      "metadata": {
        "colab": {
          "base_uri": "https://localhost:8080/"
        },
        "id": "Z6Wq6ySoIdtq",
        "outputId": "4709f4e0-263c-409d-d63e-692b1f68ae97"
      },
      "outputs": [
        {
          "output_type": "stream",
          "name": "stdout",
          "text": [
            "+---+------------+--------+---------+-------+-------+-------+----+---------+---+-----+--------+--------+-----+--------+--------+-------+\n",
            "|age|         job| marital|education|default|balance|housing|loan|  contact|day|month|duration|campaign|pdays|previous|poutcome|deposit|\n",
            "+---+------------+--------+---------+-------+-------+-------+----+---------+---+-----+--------+--------+-----+--------+--------+-------+\n",
            "| 33|    services| married|secondary|     no|   3444|    yes|  no|telephone| 21|  oct|     144|       1|   91|       4| failure|    yes|\n",
            "| 56|  technician| married|secondary|     no|    589|    yes|  no|  unknown| 23|  oct|     518|       1|  147|       2| success|    yes|\n",
            "| 34|      admin.| married| tertiary|     no|    899|    yes|  no|  unknown| 12|  nov|     114|       1|  170|       3| failure|    yes|\n",
            "| 53|     retired| married| tertiary|     no|   2269|     no|  no| cellular| 17|  nov|    1091|       2|  150|       1| success|    yes|\n",
            "| 37|  technician| married|secondary|     no|   5115|    yes|  no| cellular| 17|  nov|    1210|       2|  171|       4| failure|    yes|\n",
            "| 45|entrepreneur| married|secondary|     no|    781|     no| yes| cellular| 17|  nov|     652|       2|  126|       2| failure|    yes|\n",
            "| 46|  unemployed|divorced|secondary|     no|   3354|    yes|  no| cellular| 19|  nov|     522|       1|  174|       1| success|    yes|\n",
            "| 40|  management| married| tertiary|     no|   3352|    yes|  no| cellular| 19|  nov|     639|       2|   27|       1| success|    yes|\n",
            "| 32|  technician| married| tertiary|     no|   4654|    yes| yes| cellular| 20|  nov|     276|       1|  128|       2| failure|    yes|\n",
            "| 30| blue-collar| married|secondary|     no|    501|    yes| yes| cellular| 20|  nov|     994|       1|  177|       1| failure|    yes|\n",
            "| 46|  technician| married| tertiary|     no|      0|     no|  no| cellular| 20|  nov|     531|       1|  167|       1| failure|    yes|\n",
            "| 38|entrepreneur| married| tertiary|     no|   1110|    yes|  no| cellular| 20|  nov|     888|       2|  183|       2| failure|    yes|\n",
            "| 32|    services| married|secondary|     no|    983|    yes|  no| cellular| 20|  nov|     500|       2|  133|       1| failure|    yes|\n",
            "| 31|  unemployed| married|secondary|     no|    314|    yes|  no| cellular| 20|  nov|    1341|       3|  178|       7| failure|    yes|\n",
            "| 50| blue-collar| married|  primary|     no|  12519|    yes|  no| cellular| 21|  nov|     615|       3|   34|       1| failure|    yes|\n",
            "| 47|  technician| married|secondary|     no|      0|     no|  no| cellular| 21|  nov|     591|       1|   10|       1| failure|    yes|\n",
            "| 59|  management| married| tertiary|     no|   7049|     no|  no| cellular| 21|  nov|     530|       1|  163|       2| failure|    yes|\n",
            "| 31|  management| married|secondary|     no|   8629|    yes|  no| cellular| 21|  nov|     957|       1|  184|       2| failure|    yes|\n",
            "| 53| blue-collar| married|secondary|     no|   1777|    yes|  no| cellular| 21|  nov|     796|       5|  154|       1| failure|    yes|\n",
            "| 40|  technician|  single| tertiary|     no|   1646|    yes|  no| cellular|  2|  feb|     215|       1|  242|       2| failure|    yes|\n",
            "+---+------------+--------+---------+-------+-------+-------+----+---------+---+-----+--------+--------+-----+--------+--------+-------+\n",
            "only showing top 20 rows\n",
            "\n"
          ]
        }
      ],
      "source": [
        "#Displaying new dataframe\n",
        "df2.show()\n",
        "\n",
        "\n"
      ]
    },
    {
      "cell_type": "code",
      "source": [
        "#no of records after removal of unknown values\n",
        "df2.count()"
      ],
      "metadata": {
        "colab": {
          "base_uri": "https://localhost:8080/"
        },
        "id": "CifAmrHY_dsA",
        "outputId": "c182ead7-a5e6-4942-9098-39ea0150f257"
      },
      "execution_count": null,
      "outputs": [
        {
          "output_type": "execute_result",
          "data": {
            "text/plain": [
              "2181"
            ]
          },
          "metadata": {},
          "execution_count": 32
        }
      ]
    },
    {
      "cell_type": "code",
      "execution_count": null,
      "metadata": {
        "colab": {
          "base_uri": "https://localhost:8080/"
        },
        "id": "1jCGftOtshmc",
        "outputId": "c6e02e6e-0412-43d8-a550-5c42d523f5fc"
      },
      "outputs": [
        {
          "output_type": "execute_result",
          "data": {
            "text/plain": [
              "DataFrame[summary: string, age: string, job: string, marital: string, education: string, default: string, balance: string, housing: string, loan: string, contact: string, day: string, month: string, duration: string, campaign: string, pdays: string, previous: string, poutcome: string, deposit: string]"
            ]
          },
          "metadata": {},
          "execution_count": 23
        }
      ],
      "source": [
        "#describibg dataframe\n",
        "df2.describe()"
      ]
    },
    {
      "cell_type": "code",
      "execution_count": null,
      "metadata": {
        "colab": {
          "base_uri": "https://localhost:8080/"
        },
        "id": "cxFzVyXvLu51",
        "outputId": "ff12a56c-d776-409a-c028-59b4efa7f565"
      },
      "outputs": [
        {
          "output_type": "stream",
          "name": "stdout",
          "text": [
            "+-------+------------------+----------+--------+---------+-------+------------------+-------+----+--------+------------------+-----+------------------+------------------+-----------------+------------------+--------+-------+\n",
            "|summary|               age|       job| marital|education|default|           balance|housing|loan| contact|               day|month|          duration|          campaign|            pdays|          previous|poutcome|deposit|\n",
            "+-------+------------------+----------+--------+---------+-------+------------------+-------+----+--------+------------------+-----+------------------+------------------+-----------------+------------------+--------+-------+\n",
            "|  count|              2181|      2181|    2181|     2181|   2181|              2181|   2181|2181|    2181|              2181| 2181|              2181|              2181|             2181|              2181|    2181|   2181|\n",
            "|   mean| 41.84364970197157|      null|    null|     null|   null| 1742.946813388354|   null|null|    null|14.204034846400734| null| 343.5295735900963|1.8211829436038514|202.8578633654287|3.0917010545621273|    null|   null|\n",
            "| stddev|12.855329179952637|      null|    null|     null|   null|3397.7939950723485|   null|null|    null|  8.10108738010334| null|275.48193079367053|1.2274126864078023|121.3097255486155| 2.958246116660583|    null|   null|\n",
            "|    min|                18|    admin.|divorced|  primary|     no|              -938|     no|  no|cellular|                 1|  apr|                 4|                 1|                1|                 1| failure|     no|\n",
            "|    25%|                32|      null|    null|     null|   null|               224|   null|null|    null|                 8| null|               164|                 1|               97|                 1|    null|   null|\n",
            "|    50%|                38|      null|    null|     null|   null|               719|   null|null|    null|                13| null|               263|                 1|              182|                 2|    null|   null|\n",
            "|    75%|                50|      null|    null|     null|   null|              2044|   null|null|    null|                20| null|               432|                 2|              278|                 4|    null|   null|\n",
            "|    max|                88|unemployed|  single| tertiary|    yes|             81204|    yes| yes| unknown|                31|  sep|              2184|                12|              854|                55| success|    yes|\n",
            "+-------+------------------+----------+--------+---------+-------+------------------+-------+----+--------+------------------+-----+------------------+------------------+-----------------+------------------+--------+-------+\n",
            "\n"
          ]
        }
      ],
      "source": [
        "#summarise new dataframe\n",
        "df2.summary().show()"
      ]
    },
    {
      "cell_type": "code",
      "execution_count": null,
      "metadata": {
        "colab": {
          "base_uri": "https://localhost:8080/"
        },
        "id": "hsxAdlGmOpO5",
        "outputId": "62bb350b-dd0e-4468-f225-5dbbd1d8466b"
      },
      "outputs": [
        {
          "output_type": "execute_result",
          "data": {
            "text/plain": [
              "[Row(poutcome='success'), Row(poutcome='failure')]"
            ]
          },
          "metadata": {},
          "execution_count": 33
        }
      ],
      "source": [
        "\n",
        "#printing the distinct column values\n",
        "\n",
        "df2.select('poutcome').distinct().collect()"
      ]
    },
    {
      "cell_type": "markdown",
      "source": [
        "## **4.Renaming label column (deposit to Subscribed)for readability**"
      ],
      "metadata": {
        "id": "Z0K7XQmDfFvS"
      }
    },
    {
      "cell_type": "code",
      "source": [
        "rename=df2.withColumnRenamed(\"deposit\",\"Subscribed\")"
      ],
      "metadata": {
        "id": "eOlyNgzMhpct"
      },
      "execution_count": null,
      "outputs": []
    },
    {
      "cell_type": "code",
      "source": [
        "df_new=rename"
      ],
      "metadata": {
        "id": "EB9CLEAjchYj"
      },
      "execution_count": null,
      "outputs": []
    },
    {
      "cell_type": "code",
      "source": [
        "df_new.count()"
      ],
      "metadata": {
        "colab": {
          "base_uri": "https://localhost:8080/"
        },
        "id": "a70YibZEAFE9",
        "outputId": "e77a35a4-a3a9-443f-ce35-fc21aaa2dd8e"
      },
      "execution_count": null,
      "outputs": [
        {
          "output_type": "execute_result",
          "data": {
            "text/plain": [
              "2181"
            ]
          },
          "metadata": {},
          "execution_count": 36
        }
      ]
    },
    {
      "cell_type": "code",
      "source": [
        "df_new.show(5)"
      ],
      "metadata": {
        "colab": {
          "base_uri": "https://localhost:8080/"
        },
        "id": "fUG4jzpbesr0",
        "outputId": "130bb3e5-092a-45d5-e6e2-3ff0d8666a1f"
      },
      "execution_count": null,
      "outputs": [
        {
          "output_type": "stream",
          "name": "stdout",
          "text": [
            "+---+----------+-------+---------+-------+-------+-------+----+---------+---+-----+--------+--------+-----+--------+--------+----------+\n",
            "|age|       job|marital|education|default|balance|housing|loan|  contact|day|month|duration|campaign|pdays|previous|poutcome|Subscribed|\n",
            "+---+----------+-------+---------+-------+-------+-------+----+---------+---+-----+--------+--------+-----+--------+--------+----------+\n",
            "| 33|  services|married|secondary|     no|   3444|    yes|  no|telephone| 21|  oct|     144|       1|   91|       4| failure|       yes|\n",
            "| 56|technician|married|secondary|     no|    589|    yes|  no|  unknown| 23|  oct|     518|       1|  147|       2| success|       yes|\n",
            "| 34|    admin.|married| tertiary|     no|    899|    yes|  no|  unknown| 12|  nov|     114|       1|  170|       3| failure|       yes|\n",
            "| 53|   retired|married| tertiary|     no|   2269|     no|  no| cellular| 17|  nov|    1091|       2|  150|       1| success|       yes|\n",
            "| 37|technician|married|secondary|     no|   5115|    yes|  no| cellular| 17|  nov|    1210|       2|  171|       4| failure|       yes|\n",
            "+---+----------+-------+---------+-------+-------+-------+----+---------+---+-----+--------+--------+-----+--------+--------+----------+\n",
            "only showing top 5 rows\n",
            "\n"
          ]
        }
      ]
    },
    {
      "cell_type": "markdown",
      "source": [
        "## **5.Indexing and Encoding the categorical variables**"
      ],
      "metadata": {
        "id": "RvfMOctGjKcH"
      }
    },
    {
      "cell_type": "code",
      "execution_count": null,
      "metadata": {
        "id": "KpSuYMpZJXuF"
      },
      "outputs": [],
      "source": [
        "#Filtering categorical columns\n",
        "categoricalColumns = ['job', 'marital', 'education', 'default', 'housing', 'loan', 'poutcome']\n",
        "\n",
        "#Creating an empty list for pipeline and assembler\n",
        "list_stages = []"
      ]
    },
    {
      "cell_type": "code",
      "source": [
        "from pyspark.ml.feature import OneHotEncoder, StringIndexer, VectorAssembler"
      ],
      "metadata": {
        "id": "EmntyPlvike1"
      },
      "execution_count": null,
      "outputs": []
    },
    {
      "cell_type": "code",
      "execution_count": null,
      "metadata": {
        "id": "FxaC_fwEKJI-"
      },
      "outputs": [],
      "source": [
        "#Using FOR LOOP for indexing and encoding all selected categorical columns\n",
        "#STRING INDEXER  index all the columns and store in a new column with +INDEXED\n",
        "#ONE HOT ENCODER encode all the indexed columns and store in a new column with +ENCODED\n",
        "for i in categoricalColumns:\n",
        "    stringIndexer = StringIndexer(inputCol = i, outputCol = i + '_indexed')\n",
        "    encoder = OneHotEncoder(inputCols=[stringIndexer.getOutputCol()], outputCols=[i+ \"_encoded\"])\n",
        "    list_stages += [stringIndexer, encoder]\n",
        "\n",
        "#Indexing predictor column 'Subscribed' as label and features\n",
        "label_index= StringIndexer(inputCol = 'Subscribed', outputCol = 'label')\n",
        "\n",
        "#Creating stages for both numeric and categorical columns\n",
        "list_stages += [label_index]\n",
        "numericColumns = ['age', 'balance', 'campaign', 'pdays', 'previous']\n",
        "\n",
        "#Adding both to assembler\n",
        "input_assembler = [c + \"_encoded\" for c in categoricalColumns] + numericColumns\n",
        "\n",
        "#vectorizing to create new features column with indexed and encoded values.\n",
        "assembler = VectorAssembler(inputCols=input_assembler, outputCol=\"features\")\n",
        "list_stages += [assembler]"
      ]
    },
    {
      "cell_type": "code",
      "execution_count": null,
      "metadata": {
        "id": "-d0jLFu-KR5S"
      },
      "outputs": [],
      "source": [
        "from pyspark.ml import Pipeline"
      ]
    },
    {
      "cell_type": "code",
      "execution_count": null,
      "metadata": {
        "id": "7gDYPRemKmWH"
      },
      "outputs": [],
      "source": [
        "\n",
        "#combining all pipeline stages\n",
        "pipeline = Pipeline(stages = list_stages)\n",
        "#fitting the model\n",
        "pipelineModel = pipeline.fit(df_new)\n",
        "#transforming the model\n",
        "df_new= pipelineModel.transform(df_new)"
      ]
    },
    {
      "cell_type": "code",
      "execution_count": null,
      "metadata": {
        "id": "dX2AVJnkOhd6"
      },
      "outputs": [],
      "source": [
        "#Storing in new variable to avoid none type error\n",
        "df4=df_new"
      ]
    },
    {
      "cell_type": "code",
      "execution_count": null,
      "metadata": {
        "colab": {
          "base_uri": "https://localhost:8080/"
        },
        "id": "bE9od5WnKtjQ",
        "outputId": "5a478259-7227-492a-aa91-ed80a8a1e5a9"
      },
      "outputs": [
        {
          "output_type": "stream",
          "name": "stdout",
          "text": [
            "+---+----------+-------+---------+-------+-------+-------+----+---------+---+-----+--------+--------+-----+--------+--------+----------+-----------+--------------+---------------+---------------+-----------------+-----------------+---------------+---------------+---------------+---------------+------------+-------------+----------------+----------------+-----+--------------------+\n",
            "|age|       job|marital|education|default|balance|housing|loan|  contact|day|month|duration|campaign|pdays|previous|poutcome|Subscribed|job_indexed|   job_encoded|marital_indexed|marital_encoded|education_indexed|education_encoded|default_indexed|default_encoded|housing_indexed|housing_encoded|loan_indexed| loan_encoded|poutcome_indexed|poutcome_encoded|label|            features|\n",
            "+---+----------+-------+---------+-------+-------+-------+----+---------+---+-----+--------+--------+-----+--------+--------+----------+-----------+--------------+---------------+---------------+-----------------+-----------------+---------------+---------------+---------------+---------------+------------+-------------+----------------+----------------+-----+--------------------+\n",
            "| 33|  services|married|secondary|     no|   3444|    yes|  no|telephone| 21|  oct|     144|       1|   91|       4| failure|       yes|        5.0|(10,[5],[1.0])|            0.0|  (2,[0],[1.0])|              0.0|    (2,[0],[1.0])|            0.0|  (1,[0],[1.0])|            1.0|      (1,[],[])|         0.0|(1,[0],[1.0])|             0.0|   (1,[0],[1.0])|  0.0|(23,[5,10,12,14,1...|\n",
            "| 56|technician|married|secondary|     no|    589|    yes|  no|  unknown| 23|  oct|     518|       1|  147|       2| success|       yes|        1.0|(10,[1],[1.0])|            0.0|  (2,[0],[1.0])|              0.0|    (2,[0],[1.0])|            0.0|  (1,[0],[1.0])|            1.0|      (1,[],[])|         0.0|(1,[0],[1.0])|             1.0|       (1,[],[])|  0.0|(23,[1,10,12,14,1...|\n",
            "| 34|    admin.|married| tertiary|     no|    899|    yes|  no|  unknown| 12|  nov|     114|       1|  170|       3| failure|       yes|        2.0|(10,[2],[1.0])|            0.0|  (2,[0],[1.0])|              1.0|    (2,[1],[1.0])|            0.0|  (1,[0],[1.0])|            1.0|      (1,[],[])|         0.0|(1,[0],[1.0])|             0.0|   (1,[0],[1.0])|  0.0|(23,[2,10,13,14,1...|\n",
            "| 53|   retired|married| tertiary|     no|   2269|     no|  no| cellular| 17|  nov|    1091|       2|  150|       1| success|       yes|        4.0|(10,[4],[1.0])|            0.0|  (2,[0],[1.0])|              1.0|    (2,[1],[1.0])|            0.0|  (1,[0],[1.0])|            0.0|  (1,[0],[1.0])|         0.0|(1,[0],[1.0])|             1.0|       (1,[],[])|  0.0|(23,[4,10,13,14,1...|\n",
            "| 37|technician|married|secondary|     no|   5115|    yes|  no| cellular| 17|  nov|    1210|       2|  171|       4| failure|       yes|        1.0|(10,[1],[1.0])|            0.0|  (2,[0],[1.0])|              0.0|    (2,[0],[1.0])|            0.0|  (1,[0],[1.0])|            1.0|      (1,[],[])|         0.0|(1,[0],[1.0])|             0.0|   (1,[0],[1.0])|  0.0|(23,[1,10,12,14,1...|\n",
            "+---+----------+-------+---------+-------+-------+-------+----+---------+---+-----+--------+--------+-----+--------+--------+----------+-----------+--------------+---------------+---------------+-----------------+-----------------+---------------+---------------+---------------+---------------+------------+-------------+----------------+----------------+-----+--------------------+\n",
            "only showing top 5 rows\n",
            "\n"
          ]
        }
      ],
      "source": [
        "df4.show(5)"
      ]
    },
    {
      "cell_type": "markdown",
      "source": [
        "## **6.Normalisation of encoded columns**"
      ],
      "metadata": {
        "id": "UFWavYzi6AYy"
      }
    },
    {
      "cell_type": "code",
      "execution_count": null,
      "metadata": {
        "id": "CUAFvPQIQcqh"
      },
      "outputs": [],
      "source": [
        "#Scaling of Data\n",
        "#Only scaling the encoded columns as they are having different range of values\n",
        "from pyspark.ml.feature import MinMaxScaler\n",
        "encoded_vars=['features','job_encoded','marital_encoded','loan_encoded','default_encoded','education_encoded','housing_encoded','poutcome_encoded']\n",
        "\n",
        "#Min max scaling to scale down between 0 and 1\n",
        "minmaxscaler = [MinMaxScaler(inputCol=scale_features ,outputCol=scale_features+ \"_SCALED\") for scale_features in encoded_vars]\n",
        "\n",
        "#PIPELINING FOR ALL THE COLUMNS AND FITTING IT AGAIN TO DF2\n",
        "pipeline = Pipeline(stages=minmaxscaler)\n",
        "model_scaler=  pipeline.fit(df_new)\n",
        "scaled_df = model_scaler.transform(df_new)"
      ]
    },
    {
      "cell_type": "markdown",
      "metadata": {
        "id": "Wr6iAVi8Senf"
      },
      "source": []
    },
    {
      "cell_type": "code",
      "execution_count": null,
      "metadata": {
        "id": "_Wa2iN8GTRRr",
        "colab": {
          "base_uri": "https://localhost:8080/"
        },
        "outputId": "0265d754-4d2f-447e-dc37-a86c9726d8d6"
      },
      "outputs": [
        {
          "output_type": "stream",
          "name": "stdout",
          "text": [
            "+---+----------+-------+---------+-------+-------+-------+----+---------+---+-----+--------+--------+-----+--------+--------+----------+-----------+--------------+---------------+---------------+-----------------+-----------------+---------------+---------------+---------------+---------------+------------+-------------+----------------+----------------+-----+--------------------+--------------------+------------------+----------------------+-------------------+----------------------+------------------------+----------------------+-----------------------+\n",
            "|age|       job|marital|education|default|balance|housing|loan|  contact|day|month|duration|campaign|pdays|previous|poutcome|Subscribed|job_indexed|   job_encoded|marital_indexed|marital_encoded|education_indexed|education_encoded|default_indexed|default_encoded|housing_indexed|housing_encoded|loan_indexed| loan_encoded|poutcome_indexed|poutcome_encoded|label|            features|     features_SCALED|job_encoded_SCALED|marital_encoded_SCALED|loan_encoded_SCALED|default_encoded_SCALED|education_encoded_SCALED|housing_encoded_SCALED|poutcome_encoded_SCALED|\n",
            "+---+----------+-------+---------+-------+-------+-------+----+---------+---+-----+--------+--------+-----+--------+--------+----------+-----------+--------------+---------------+---------------+-----------------+-----------------+---------------+---------------+---------------+---------------+------------+-------------+----------------+----------------+-----+--------------------+--------------------+------------------+----------------------+-------------------+----------------------+------------------------+----------------------+-----------------------+\n",
            "| 33|  services|married|secondary|     no|   3444|    yes|  no|telephone| 21|  oct|     144|       1|   91|       4| failure|       yes|        5.0|(10,[5],[1.0])|            0.0|  (2,[0],[1.0])|              0.0|    (2,[0],[1.0])|            0.0|  (1,[0],[1.0])|            1.0|      (1,[],[])|         0.0|(1,[0],[1.0])|             0.0|   (1,[0],[1.0])|  0.0|(23,[5,10,12,14,1...|(23,[5,10,12,14,1...|    (10,[5],[1.0])|             [1.0,0.0]|              [1.0]|                 [1.0]|               [1.0,0.0]|                 [0.0]|                  [1.0]|\n",
            "| 56|technician|married|secondary|     no|    589|    yes|  no|  unknown| 23|  oct|     518|       1|  147|       2| success|       yes|        1.0|(10,[1],[1.0])|            0.0|  (2,[0],[1.0])|              0.0|    (2,[0],[1.0])|            0.0|  (1,[0],[1.0])|            1.0|      (1,[],[])|         0.0|(1,[0],[1.0])|             1.0|       (1,[],[])|  0.0|(23,[1,10,12,14,1...|(23,[1,10,12,14,1...|    (10,[1],[1.0])|             [1.0,0.0]|              [1.0]|                 [1.0]|               [1.0,0.0]|                 [0.0]|                  [0.0]|\n",
            "| 34|    admin.|married| tertiary|     no|    899|    yes|  no|  unknown| 12|  nov|     114|       1|  170|       3| failure|       yes|        2.0|(10,[2],[1.0])|            0.0|  (2,[0],[1.0])|              1.0|    (2,[1],[1.0])|            0.0|  (1,[0],[1.0])|            1.0|      (1,[],[])|         0.0|(1,[0],[1.0])|             0.0|   (1,[0],[1.0])|  0.0|(23,[2,10,13,14,1...|(23,[2,10,13,14,1...|    (10,[2],[1.0])|             [1.0,0.0]|              [1.0]|                 [1.0]|               [0.0,1.0]|                 [0.0]|                  [1.0]|\n",
            "| 53|   retired|married| tertiary|     no|   2269|     no|  no| cellular| 17|  nov|    1091|       2|  150|       1| success|       yes|        4.0|(10,[4],[1.0])|            0.0|  (2,[0],[1.0])|              1.0|    (2,[1],[1.0])|            0.0|  (1,[0],[1.0])|            0.0|  (1,[0],[1.0])|         0.0|(1,[0],[1.0])|             1.0|       (1,[],[])|  0.0|(23,[4,10,13,14,1...|(23,[4,10,13,14,1...|    (10,[4],[1.0])|             [1.0,0.0]|              [1.0]|                 [1.0]|               [0.0,1.0]|                 [1.0]|                  [0.0]|\n",
            "| 37|technician|married|secondary|     no|   5115|    yes|  no| cellular| 17|  nov|    1210|       2|  171|       4| failure|       yes|        1.0|(10,[1],[1.0])|            0.0|  (2,[0],[1.0])|              0.0|    (2,[0],[1.0])|            0.0|  (1,[0],[1.0])|            1.0|      (1,[],[])|         0.0|(1,[0],[1.0])|             0.0|   (1,[0],[1.0])|  0.0|(23,[1,10,12,14,1...|(23,[1,10,12,14,1...|    (10,[1],[1.0])|             [1.0,0.0]|              [1.0]|                 [1.0]|               [1.0,0.0]|                 [0.0]|                  [1.0]|\n",
            "+---+----------+-------+---------+-------+-------+-------+----+---------+---+-----+--------+--------+-----+--------+--------+----------+-----------+--------------+---------------+---------------+-----------------+-----------------+---------------+---------------+---------------+---------------+------------+-------------+----------------+----------------+-----+--------------------+--------------------+------------------+----------------------+-------------------+----------------------+------------------------+----------------------+-----------------------+\n",
            "only showing top 5 rows\n",
            "\n"
          ]
        }
      ],
      "source": [
        "#DISPLAYING ALL THE NORMALIZED VALUES\n",
        "scaled_df.show(5)"
      ]
    },
    {
      "cell_type": "code",
      "execution_count": null,
      "metadata": {
        "id": "efzF_CjJTUcE"
      },
      "outputs": [],
      "source": [
        "#SELECTING ONLY THE REQUIRED COLUMNS FOR FURTHER SUPERVISED AND UNSUPERVISED LEARNING\n",
        "\n",
        "df5=scaled_df.select('Subscribed','label','features','job_encoded_SCALED','marital_encoded_SCALED','loan_encoded_SCALED','default_encoded_SCALED','education_encoded_SCALED','housing_encoded_SCALED','poutcome_encoded_SCALED','features_SCALED')"
      ]
    },
    {
      "cell_type": "code",
      "execution_count": null,
      "metadata": {
        "colab": {
          "base_uri": "https://localhost:8080/"
        },
        "id": "D2BnbIzBTno8",
        "outputId": "4dac7871-07e7-4337-a266-dd35b565b415"
      },
      "outputs": [
        {
          "output_type": "execute_result",
          "data": {
            "text/plain": [
              "[Row(Subscribed='yes', label=0.0, features=SparseVector(23, {5: 1.0, 10: 1.0, 12: 1.0, 14: 1.0, 16: 1.0, 17: 1.0, 18: 33.0, 19: 3444.0, 20: 1.0, 21: 91.0, 22: 4.0}), job_encoded_SCALED=SparseVector(10, {5: 1.0}), marital_encoded_SCALED=DenseVector([1.0, 0.0]), loan_encoded_SCALED=DenseVector([1.0]), default_encoded_SCALED=DenseVector([1.0]), education_encoded_SCALED=DenseVector([1.0, 0.0]), housing_encoded_SCALED=DenseVector([0.0]), poutcome_encoded_SCALED=DenseVector([1.0]), features_SCALED=SparseVector(23, {5: 1.0, 10: 1.0, 12: 1.0, 14: 1.0, 16: 1.0, 17: 1.0, 18: 0.2143, 19: 0.0533, 21: 0.1055, 22: 0.0556}))]"
            ]
          },
          "metadata": {},
          "execution_count": 47
        }
      ],
      "source": [
        "df5.take(1)"
      ]
    },
    {
      "cell_type": "markdown",
      "source": [
        "## **Machine Learning model building and Evaluation**"
      ],
      "metadata": {
        "id": "9WkAHuFWktWq"
      }
    },
    {
      "cell_type": "markdown",
      "metadata": {
        "id": "TiiZQj6qTxkS"
      },
      "source": [
        "KMeans Clustering-Unsupervised Learning"
      ]
    },
    {
      "cell_type": "code",
      "execution_count": null,
      "metadata": {
        "id": "7-k-roGTTxBL"
      },
      "outputs": [],
      "source": [
        "# Perform unsupervised learning on df2 with k-means\n",
        "# You can use whole df2 as both training and testing data,\n",
        "# Evaluate the clustering result using Accuracy.\n",
        "from pyspark.ml.clustering import KMeans\n",
        "from pyspark.ml.evaluation import ClusteringEvaluator\n",
        "import matplotlib.pyplot as plt\n",
        "from sklearn.datasets import make_blobs\n",
        "from pyspark.ml.evaluation import MulticlassClassificationEvaluator\n",
        "from pyspark.ml.evaluation import BinaryClassificationEvaluator\n",
        "%matplotlib inline"
      ]
    },
    {
      "cell_type": "code",
      "execution_count": null,
      "metadata": {
        "id": "BDmeVc2QUVAZ",
        "colab": {
          "base_uri": "https://localhost:8080/"
        },
        "outputId": "baddcd3b-8d5f-4894-9a3f-9b56a94b2dbb"
      },
      "outputs": [
        {
          "output_type": "stream",
          "name": "stdout",
          "text": [
            "+-----+----------+\n",
            "|label|prediction|\n",
            "+-----+----------+\n",
            "|  0.0|         0|\n",
            "|  0.0|         0|\n",
            "|  0.0|         0|\n",
            "|  0.0|         0|\n",
            "|  0.0|         0|\n",
            "|  0.0|         0|\n",
            "|  0.0|         0|\n",
            "|  0.0|         0|\n",
            "|  0.0|         0|\n",
            "|  0.0|         0|\n",
            "+-----+----------+\n",
            "only showing top 10 rows\n",
            "\n"
          ]
        }
      ],
      "source": [
        "from pyspark.ml import Pipeline\n",
        "\n",
        "#PERFORMING KMEANS CLUSTERING ON DF2 DATA FRAME\n",
        "#WHOLE DATA IS USED AS TRAINING AND TESTING DATA AS IT IS UNSUPERVISED\n",
        "# Trains a k-means model.\n",
        "kmeans = KMeans().setK(2).setSeed(742).setFeaturesCol(\"features\")\n",
        "model = kmeans.fit(df5)\n",
        "# Make predictions\n",
        "predictions = model.transform(df5)\n",
        "predictions.select('label', 'prediction').show(10)"
      ]
    },
    {
      "cell_type": "code",
      "execution_count": null,
      "metadata": {
        "id": "iwWZ8He5UVDy",
        "colab": {
          "base_uri": "https://localhost:8080/"
        },
        "outputId": "5c6ed4b9-b430-4c64-e94c-cc9f08c4ef23"
      },
      "outputs": [
        {
          "output_type": "stream",
          "name": "stdout",
          "text": [
            "KMeansModel: uid=KMeans_68f2c5f87bb3, k=3, distanceMeasure=euclidean, numFeatures=23\n",
            "With K=3\n",
            "Within Set Sum of Squared Errors = 6809942425.071393\n",
            "------------------------------------------------------------\n",
            "With K=2\n",
            "Within Set Sum of Squared Errors = 16703065509.310694\n"
          ]
        }
      ],
      "source": [
        "#APPLYING KMEANS USING ELBOW METHOD TO GET THE OPTIMAL VALUE OF K TO HELP IN ANALYSIS IN REPORT\n",
        "# Trains a k-means model.\n",
        "kmeans3=KMeans(featuresCol=\"features\",k=3)\n",
        "kmeans2=KMeans(featuresCol=\"features\",k=2)\n",
        "model_k3 = kmeans3.fit(df4)\n",
        "model_k2 = kmeans2.fit(df4)\n",
        "\n",
        "print (model_k3)\n",
        "cost_k3=model_k3.summary.trainingCost\n",
        "cost_k2=model_k2.summary.trainingCost\n",
        "print(\"With K=3\")\n",
        "print(\"Within Set Sum of Squared Errors = \" + str(cost_k3))\n",
        "print('--'*30)\n",
        "print(\"With K=2\")\n",
        "print(\"Within Set Sum of Squared Errors = \" + str(cost_k2))"
      ]
    },
    {
      "cell_type": "code",
      "execution_count": null,
      "metadata": {
        "colab": {
          "base_uri": "https://localhost:8080/"
        },
        "id": "G76hgPgEUVGv",
        "outputId": "a63b451d-e906-4006-c12b-58fc7a9af802"
      },
      "outputs": [
        {
          "output_type": "stream",
          "name": "stdout",
          "text": [
            "Silhouette with squared euclidean distance = 0.9955086503489643\n"
          ]
        }
      ],
      "source": [
        "\n",
        "    evaluator = ClusteringEvaluator()\n",
        "    silhouette = evaluator.evaluate(predictions)\n",
        "    print(\"Silhouette with squared euclidean distance = \" + str(silhouette))\n",
        "\n"
      ]
    },
    {
      "cell_type": "code",
      "execution_count": null,
      "metadata": {
        "id": "O5qwAA2gUVpD",
        "colab": {
          "base_uri": "https://localhost:8080/"
        },
        "outputId": "c6093e7f-8574-4985-c430-e63b8ab3cc40"
      },
      "outputs": [
        {
          "output_type": "stream",
          "name": "stdout",
          "text": [
            "Cluster Centers: \n",
            "[2.54703993e-01 1.62459844e-01 1.42267095e-01 1.24368977e-01\n",
            " 8.94905920e-02 7.11335475e-02 4.31390546e-02 3.99265718e-02\n",
            " 3.35016062e-02 1.97338229e-02 5.65855897e-01 3.40523176e-01\n",
            " 5.00229463e-01 3.98347866e-01 9.96787517e-01 5.48416705e-01\n",
            " 9.02248738e-01 5.39697109e-01 4.18155117e+01 1.68314640e+03\n",
            " 1.82101882e+00 2.02914181e+02 3.09270307e+00]\n",
            "[0.00000e+00 0.00000e+00 0.00000e+00 0.00000e+00 5.00000e-01 0.00000e+00\n",
            " 0.00000e+00 0.00000e+00 5.00000e-01 0.00000e+00 5.00000e-01 0.00000e+00\n",
            " 5.00000e-01 5.00000e-01 1.00000e+00 1.00000e+00 1.00000e+00 0.00000e+00\n",
            " 7.25000e+01 6.68955e+04 2.00000e+00 1.41500e+02 2.00000e+00]\n"
          ]
        }
      ],
      "source": [
        "#FINDING CLUSTER CENTRES FOR THE FIRST KMEANS WE HAD APPLIED TO DF2\n",
        "centers = model.clusterCenters()\n",
        "print(\"Cluster Centers: \")\n",
        "for center in centers:\n",
        " print(center)"
      ]
    },
    {
      "cell_type": "code",
      "source": [
        "#CONVERTING THE PREDICTION AND LABEL DATA FRAME TO PANDAS FOR ACCURACY\n",
        "import numpy as np\n",
        "from sklearn.metrics import accuracy_score\n",
        "\n",
        "#USING TOPANDAS FUNCTION FOR CONVERSION\n",
        "y_true=predictions.toPandas()\n",
        "y_pred=predictions.toPandas()\n",
        "\n",
        "#USING ACCURACY FUNCTION TO FIND ACCURACY\n",
        "accuracy_score(y_true.label, y_pred.prediction)"
      ],
      "metadata": {
        "colab": {
          "base_uri": "https://localhost:8080/"
        },
        "id": "4Zp18jALm3P4",
        "outputId": "dc95e270-27cd-4af3-f181-1f069f12c829"
      },
      "execution_count": null,
      "outputs": [
        {
          "output_type": "execute_result",
          "data": {
            "text/plain": [
              "0.6886749197615772"
            ]
          },
          "metadata": {},
          "execution_count": 53
        }
      ]
    },
    {
      "cell_type": "markdown",
      "source": [
        "## **Supervised Learning-Splitting data into train set and test set**"
      ],
      "metadata": {
        "id": "9ggVX12Gyvl2"
      }
    },
    {
      "cell_type": "code",
      "source": [
        "#Splitting scaled dataset in 70% AND 30% ratio\n",
        "train, test = df5.randomSplit([0.7, 0.3], seed = 742)\n",
        "print(\"Training Dataset Count: \" + str(train.count()))\n",
        "print(\"Test Dataset Count: \" + str(test.count()))"
      ],
      "metadata": {
        "id": "T6FTyft1y2kE",
        "colab": {
          "base_uri": "https://localhost:8080/"
        },
        "outputId": "74e7c9e3-1499-4750-f012-426c5a7f5af3"
      },
      "execution_count": null,
      "outputs": [
        {
          "output_type": "stream",
          "name": "stdout",
          "text": [
            "Training Dataset Count: 1540\n",
            "Test Dataset Count: 641\n"
          ]
        }
      ]
    },
    {
      "cell_type": "markdown",
      "source": [
        "**Classification -Logistic Regression**"
      ],
      "metadata": {
        "id": "2WFdID_nyUlw"
      }
    },
    {
      "cell_type": "code",
      "source": [
        "\n",
        "from pyspark.ml.classification import LogisticRegression\n",
        "from pyspark.ml.evaluation import MulticlassClassificationEvaluator\n",
        "from pyspark.ml.evaluation import BinaryClassificationEvaluator\n",
        "\n",
        "#Building LR model and fitting to train set\n",
        "LR = LogisticRegression(featuresCol = 'features_SCALED', labelCol = 'label', maxIter=10)\n",
        "LR_model = LR.fit(train)"
      ],
      "metadata": {
        "id": "rQ24Nkq9pn5o"
      },
      "execution_count": null,
      "outputs": []
    },
    {
      "cell_type": "code",
      "source": [
        "\n",
        "import matplotlib.pyplot as plt\n",
        "import numpy as np\n",
        "#sorting the coefficients\n",
        "beta_coef = np.sort(LR_model.coefficients)\n",
        "\n",
        "#plotting the coefficients\n",
        "plt.plot(beta_coef)\n",
        "plt.ylabel('Beta Coefficients')\n",
        "plt.show()"
      ],
      "metadata": {
        "colab": {
          "base_uri": "https://localhost:8080/",
          "height": 265
        },
        "id": "HAXYGdV5zWeT",
        "outputId": "8c3bf764-8bf0-408b-eebc-a6dadba74a08"
      },
      "execution_count": null,
      "outputs": [
        {
          "output_type": "display_data",
          "data": {
            "text/plain": [
              "<Figure size 432x288 with 1 Axes>"
            ],
            "image/png": "[encoded data removed]"
          },
          "metadata": {
            "needs_background": "light"
          }
        }
      ]
    },
    {
      "cell_type": "code",
      "source": [
        "#Displaying the coefficient and intercept of the model\n",
        "print(beta_coef)\n",
        "print(\"Coefficients: \" + str(LR_model.coefficients))\n",
        "print(\"Intercept: \" + str(LR_model.intercept))"
      ],
      "metadata": {
        "colab": {
          "base_uri": "https://localhost:8080/"
        },
        "id": "YUIgax9PzZLG",
        "outputId": "12dde042-a850-45ef-87a2-eeb13b65f0a7"
      },
      "execution_count": null,
      "outputs": [
        {
          "output_type": "stream",
          "name": "stdout",
          "text": [
            "[-2.56245614 -2.39329099 -0.72894848 -0.66562526 -0.61195461 -0.48246488\n",
            " -0.42261548 -0.30638277 -0.25365577 -0.11593598 -0.06005363 -0.03727342\n",
            " -0.01719841 -0.00880428  0.01508273  0.05560106  0.05692917  0.10278279\n",
            "  0.21061537  0.38093549  0.49488607  2.02643564  2.35802913]\n",
            "Coefficients: [-0.11593597634032905,0.05560106483969587,0.05692917050013604,0.38093548808297556,-0.2536557713914945,0.015082725188940384,-0.6656252635387444,-0.6119546125677278,0.21061536524791594,0.49488607488632846,-0.0372734171172424,-0.060053626608081015,-0.008804281762072257,-0.3063827661093845,-0.42261548168677826,-0.7289484838949549,-0.48246488488916073,2.026435642228449,-0.017198412245291103,-2.562456142957582,2.358029134786858,0.10278279253149321,-2.3932909891883374]\n",
            "Intercept: -0.7793344296330789\n"
          ]
        }
      ]
    },
    {
      "cell_type": "markdown",
      "source": [
        "## **Better the ROC better the model**"
      ],
      "metadata": {
        "id": "v2SBlrNIz299"
      }
    },
    {
      "cell_type": "code",
      "source": [
        "#ROC computation\n",
        "#Summary function gives all the parameters\n",
        "trainingSummary = LR_model.summary\n",
        "\n",
        "roc = trainingSummary.roc.toPandas()\n",
        "plt.plot(roc['FPR'],roc['TPR'])\n",
        "plt.ylabel('False Positive Rate')\n",
        "plt.xlabel('True Positive Rate')\n",
        "plt.title('ROC Curve')\n",
        "plt.show()\n",
        "\n",
        "print('Training set areaUnderROC: ' + str(trainingSummary.areaUnderROC))"
      ],
      "metadata": {
        "colab": {
          "base_uri": "https://localhost:8080/",
          "height": 313
        },
        "id": "xp2fJ9MjziLC",
        "outputId": "c95a27fd-3c56-4128-f479-888df6fea20b"
      },
      "execution_count": null,
      "outputs": [
        {
          "output_type": "display_data",
          "data": {
            "text/plain": [
              "<Figure size 432x288 with 1 Axes>"
            ],
            "image/png": "[encoded data removed]"
          },
          "metadata": {
            "needs_background": "light"
          }
        },
        {
          "output_type": "stream",
          "name": "stdout",
          "text": [
            "Training set areaUnderROC: 0.8180225352775534\n"
          ]
        }
      ]
    },
    {
      "cell_type": "code",
      "source": [
        "#RECALL VS PRECISION graph\n",
        "pr = trainingSummary.pr.toPandas()\n",
        "plt.plot(pr['recall'],pr['precision'])\n",
        "plt.ylabel('Precision')\n",
        "plt.xlabel('Recall')\n",
        "plt.show()"
      ],
      "metadata": {
        "colab": {
          "base_uri": "https://localhost:8080/",
          "height": 279
        },
        "id": "PSasLveBz08e",
        "outputId": "b75cb417-3433-47a5-8427-0b61b2a8951f"
      },
      "execution_count": null,
      "outputs": [
        {
          "output_type": "display_data",
          "data": {
            "text/plain": [
              "<Figure size 432x288 with 1 Axes>"
            ],
            "image/png": "[encoded data removed]"
          },
          "metadata": {
            "needs_background": "light"
          }
        }
      ]
    },
    {
      "cell_type": "code",
      "source": [
        "#CALCULATING PREDICTION AND PROBABILITY FOR ALL THE FEATURES\n",
        "LR_predictions= LR_model.transform(test)\n",
        "LR_predictions.select( 'features','label', 'rawPrediction', 'prediction', 'probability').show(10)"
      ],
      "metadata": {
        "colab": {
          "base_uri": "https://localhost:8080/"
        },
        "id": "LFqRo3s00A39",
        "outputId": "7738d558-acd5-4227-c2c7-dd339ea623b8"
      },
      "execution_count": null,
      "outputs": [
        {
          "output_type": "stream",
          "name": "stdout",
          "text": [
            "+--------------------+-----+--------------------+----------+--------------------+\n",
            "|            features|label|       rawPrediction|prediction|         probability|\n",
            "+--------------------+-----+--------------------+----------+--------------------+\n",
            "|(23,[0,10,12,14,1...|  1.0|[2.42431948692267...|       0.0|[0.91866308610377...|\n",
            "|(23,[0,10,12,14,1...|  1.0|[-0.1394982070808...|       1.0|[0.46518189256400...|\n",
            "|(23,[0,10,12,14,1...|  1.0|[-0.2966828137176...|       1.0|[0.42636859649879...|\n",
            "|(23,[0,10,13,14,1...|  1.0|[0.98137542427916...|       0.0|[0.72738104531559...|\n",
            "|(23,[0,10,13,14,1...|  1.0|[0.84721961733564...|       0.0|[0.69998356870205...|\n",
            "|(23,[0,10,13,14,1...|  1.0|[0.91382764481071...|       0.0|[0.71378277825887...|\n",
            "|(23,[0,10,13,14,1...|  1.0|[-0.2793269885308...|       1.0|[0.43061878150569...|\n",
            "|(23,[0,10,13,14,1...|  1.0|[-1.2793503095994...|       1.0|[0.21766083555062...|\n",
            "|(23,[0,10,13,14,1...|  1.0|[0.03527376707084...|       0.0|[0.50881752752762...|\n",
            "|(23,[0,10,13,14,1...|  1.0|[-0.0639181477997...|       1.0|[0.48402590123423...|\n",
            "+--------------------+-----+--------------------+----------+--------------------+\n",
            "only showing top 10 rows\n",
            "\n"
          ]
        }
      ]
    },
    {
      "cell_type": "code",
      "source": [
        "#Using BinaryClassificationEvaluator  for TEST AREA UNDER ROC .For binary class,default metric is Area under ROC\n",
        "\n",
        "from pyspark.ml.evaluation import BinaryClassificationEvaluator\n",
        "evaluator_ = BinaryClassificationEvaluator()\n",
        "print('Test Area Under ROC is', evaluator_.evaluate(LR_predictions))"
      ],
      "metadata": {
        "id": "kT0YS5Nl0H8Y",
        "colab": {
          "base_uri": "https://localhost:8080/"
        },
        "outputId": "15c6632f-b1d6-4254-c565-62aa3713df04"
      },
      "execution_count": null,
      "outputs": [
        {
          "output_type": "stream",
          "name": "stdout",
          "text": [
            "Test Area Under ROC is 0.8041048637461209\n"
          ]
        }
      ]
    },
    {
      "cell_type": "code",
      "source": [
        "#Comparing  LABEL AND PREDICTION for understanding accuracy\n",
        "acc_df=LR_predictions.select(\"label\",\"prediction\").show(5)"
      ],
      "metadata": {
        "colab": {
          "base_uri": "https://localhost:8080/"
        },
        "id": "86pEcwjF0Nok",
        "outputId": "f3971765-ed9e-456c-fa49-c840de3c201e"
      },
      "execution_count": null,
      "outputs": [
        {
          "output_type": "stream",
          "name": "stdout",
          "text": [
            "+-----+----------+\n",
            "|label|prediction|\n",
            "+-----+----------+\n",
            "|  1.0|       0.0|\n",
            "|  1.0|       1.0|\n",
            "|  1.0|       1.0|\n",
            "|  1.0|       0.0|\n",
            "|  1.0|       0.0|\n",
            "+-----+----------+\n",
            "only showing top 5 rows\n",
            "\n"
          ]
        }
      ]
    },
    {
      "cell_type": "code",
      "source": [
        "#Multi class Classification Evaluator for accuracy\n",
        "from pyspark.ml.evaluation import MulticlassClassificationEvaluator\n",
        "\n",
        "eval1 = MulticlassClassificationEvaluator(predictionCol='prediction',labelCol='label', metricName='accuracy')\n",
        "acc = eval1.evaluate(LR_predictions)\n",
        "print(\"accuracy=%g\" %(acc))"
      ],
      "metadata": {
        "colab": {
          "base_uri": "https://localhost:8080/"
        },
        "id": "9um1yY4C0UFX",
        "outputId": "78ba0834-4da2-4fcc-97d6-828767c238c4"
      },
      "execution_count": null,
      "outputs": [
        {
          "output_type": "stream",
          "name": "stdout",
          "text": [
            "accuracy=0.75507\n"
          ]
        }
      ]
    },
    {
      "cell_type": "code",
      "source": [
        "# CONFUSION MATRIX\n",
        "from pyspark.mllib.evaluation import MulticlassMetrics\n",
        "pred_label=LR_predictions.select( 'label', 'prediction').rdd\n",
        "metrics = MulticlassMetrics(pred_label)\n",
        "print(metrics.confusionMatrix())"
      ],
      "metadata": {
        "colab": {
          "base_uri": "https://localhost:8080/"
        },
        "id": "nMjdhcc-0Zyz",
        "outputId": "d1deb310-a827-45d3-cd64-a6fa7021873a"
      },
      "execution_count": null,
      "outputs": [
        {
          "output_type": "stream",
          "name": "stdout",
          "text": [
            "DenseMatrix([[365.,  76.],\n",
            "             [ 81., 119.]])\n"
          ]
        }
      ]
    },
    {
      "cell_type": "code",
      "source": [
        "#PRECISION, RECALL and F1SCORE\n",
        "cm=metrics.confusionMatrix().toArray()\n",
        "precision=(cm[0][0])/(cm[0][0]+cm[1][0])\n",
        "recall=(cm[0][0])/(cm[0][0]+cm[0][1])\n",
        "f1score =((2*precision*recall )/ (precision + recall))\n",
        "\n",
        "print(\"Logistic regression:--precision,recall,f1score\",precision,recall,f1score)"
      ],
      "metadata": {
        "colab": {
          "base_uri": "https://localhost:8080/"
        },
        "id": "pPC0UdzH0eux",
        "outputId": "47bb4cb5-8581-42fc-8b07-d4388941572b"
      },
      "execution_count": null,
      "outputs": [
        {
          "output_type": "stream",
          "name": "stdout",
          "text": [
            "Logistic regression:--precision,recall,f1score 0.8183856502242153 0.8276643990929705 0.8229988726042842\n"
          ]
        }
      ]
    },
    {
      "cell_type": "code",
      "source": [
        "#PLOTTING HEATMAP OF ALL THE METRICS PARAMETERS USING SEABORN PACKAGE\n",
        "import seaborn as sns\n",
        "sns.heatmap(cm, annot=True)"
      ],
      "metadata": {
        "colab": {
          "base_uri": "https://localhost:8080/",
          "height": 283
        },
        "id": "LvX0oBnG0jko",
        "outputId": "574e40e2-a31b-4d72-fe2d-b63f9c6cf2bf"
      },
      "execution_count": null,
      "outputs": [
        {
          "output_type": "execute_result",
          "data": {
            "text/plain": [
              "<matplotlib.axes._subplots.AxesSubplot at 0x7f1af3a86c10>"
            ]
          },
          "metadata": {},
          "execution_count": 89
        },
        {
          "output_type": "display_data",
          "data": {
            "text/plain": [
              "<Figure size 432x288 with 2 Axes>"
            ],
            "image/png": "[encoded data removed]"
          },
          "metadata": {
            "needs_background": "light"
          }
        }
      ]
    },
    {
      "cell_type": "markdown",
      "source": [
        "DECISION TREE CLASSIFIER\n",
        "\n"
      ],
      "metadata": {
        "id": "CctXEKKsybOw"
      }
    },
    {
      "cell_type": "code",
      "source": [
        "\n",
        "#Import Decision Tree Classifier model\n",
        "\n",
        "from pyspark.ml.classification import DecisionTreeClassifier\n",
        "dt = DecisionTreeClassifier(featuresCol = 'features', labelCol = 'label', maxDepth = 3)\n",
        "#Fitting to train and test data\n",
        "DT_Model = dt.fit(train)\n",
        "prediction1= DT_Model.transform(test)\n",
        "prediction1.select( 'label', 'rawPrediction', 'prediction', 'probability').show(10)"
      ],
      "metadata": {
        "colab": {
          "base_uri": "https://localhost:8080/"
        },
        "id": "WhxnqPlvtsgt",
        "outputId": "5a50aa12-941c-42ab-f090-8107b7bcb91e"
      },
      "execution_count": null,
      "outputs": [
        {
          "output_type": "stream",
          "name": "stdout",
          "text": [
            "+-----+-------------+----------+--------------------+\n",
            "|label|rawPrediction|prediction|         probability|\n",
            "+-----+-------------+----------+--------------------+\n",
            "|  1.0| [655.0,63.0]|       0.0|[0.91225626740947...|\n",
            "|  1.0|[167.0,294.0]|       1.0|[0.36225596529284...|\n",
            "|  1.0|[167.0,294.0]|       1.0|[0.36225596529284...|\n",
            "|  1.0| [199.0,98.0]|       0.0|[0.67003367003367...|\n",
            "|  1.0| [199.0,98.0]|       0.0|[0.67003367003367...|\n",
            "|  1.0| [199.0,98.0]|       0.0|[0.67003367003367...|\n",
            "|  1.0| [199.0,98.0]|       0.0|[0.67003367003367...|\n",
            "|  1.0| [199.0,98.0]|       0.0|[0.67003367003367...|\n",
            "|  1.0|[167.0,294.0]|       1.0|[0.36225596529284...|\n",
            "|  1.0|[167.0,294.0]|       1.0|[0.36225596529284...|\n",
            "+-----+-------------+----------+--------------------+\n",
            "only showing top 10 rows\n",
            "\n"
          ]
        }
      ]
    },
    {
      "cell_type": "code",
      "source": [
        "#AREA UNDER ROC curve\n",
        "evaluator = BinaryClassificationEvaluator()\n",
        "print(\"Test Area Under ROC: \" + str(evaluator.evaluate(prediction1, {evaluator.metricName: \"areaUnderROC\"})))"
      ],
      "metadata": {
        "colab": {
          "base_uri": "https://localhost:8080/"
        },
        "id": "sr4TgVziGuLV",
        "outputId": "c18db817-c74c-4de8-9a18-aa307fd60825"
      },
      "execution_count": null,
      "outputs": [
        {
          "output_type": "stream",
          "name": "stdout",
          "text": [
            "Test Area Under ROC: 0.7771760377141542\n"
          ]
        }
      ]
    },
    {
      "cell_type": "code",
      "source": [
        "#CALCULATING ACCURACY\n",
        "from pyspark.ml.evaluation import MulticlassClassificationEvaluator\n",
        "\n",
        "eval2 = MulticlassClassificationEvaluator(predictionCol='prediction',labelCol='label', metricName='accuracy')\n",
        "acc1 = eval2.evaluate(prediction1)\n",
        "print(\"accuracy=%g\" %(acc1))"
      ],
      "metadata": {
        "colab": {
          "base_uri": "https://localhost:8080/"
        },
        "id": "KbqDgFH3Mvne",
        "outputId": "a9342347-c5fd-44f5-e569-1e2f2835fef8"
      },
      "execution_count": null,
      "outputs": [
        {
          "output_type": "stream",
          "name": "stdout",
          "text": [
            "accuracy=0.764431\n"
          ]
        }
      ]
    },
    {
      "cell_type": "code",
      "source": [
        "#CONFUSION MATRIX\n",
        "from pyspark.mllib.evaluation import MulticlassMetrics\n",
        "pred_label1=prediction1.select( 'label', 'prediction').rdd\n",
        "metrics1 = MulticlassMetrics(pred_label1)\n",
        "print(metrics1.confusionMatrix())"
      ],
      "metadata": {
        "colab": {
          "base_uri": "https://localhost:8080/"
        },
        "id": "zi_QgEaQPulO",
        "outputId": "784669ca-a886-4f65-dab6-e7f0fd6b5f3a"
      },
      "execution_count": null,
      "outputs": [
        {
          "output_type": "stream",
          "name": "stdout",
          "text": [
            "DenseMatrix([[364.,  69.],\n",
            "             [ 82., 126.]])\n"
          ]
        }
      ]
    },
    {
      "cell_type": "code",
      "source": [
        "# RECALL, PRECISION AND F1SCORE\n",
        "cm=metrics1.confusionMatrix().toArray()\n",
        "precision=(cm[0][0])/(cm[0][0]+cm[1][0])\n",
        "recall=(cm[0][0])/(cm[0][0]+cm[0][1])\n",
        "f1score =((2*precision*recall )/ (precision + recall))\n",
        "\n",
        "print(\"Decision Tree:precision,recall,f1score\",precision,recall,f1score)"
      ],
      "metadata": {
        "colab": {
          "base_uri": "https://localhost:8080/"
        },
        "id": "P1WvxDDkPzvu",
        "outputId": "a09642e0-8714-44d8-838a-d3d1f221a909"
      },
      "execution_count": null,
      "outputs": [
        {
          "output_type": "stream",
          "name": "stdout",
          "text": [
            "Decision Tree:precision,recall,f1score 0.8161434977578476 0.8406466512702079 0.8282138794084187\n"
          ]
        }
      ]
    },
    {
      "cell_type": "code",
      "source": [
        "#PRINTING ALL THE IMPORTANT FEATURES\n",
        "DT_Model.featureImportances"
      ],
      "metadata": {
        "colab": {
          "base_uri": "https://localhost:8080/"
        },
        "id": "x25W4xyPP34v",
        "outputId": "85dc775c-077d-48fd-85b6-68d2d63e3259"
      },
      "execution_count": null,
      "outputs": [
        {
          "output_type": "execute_result",
          "data": {
            "text/plain": [
              "SparseVector(23, {1: 0.0075, 3: 0.0282, 15: 0.1401, 17: 0.7534, 21: 0.0597, 22: 0.0112})"
            ]
          },
          "metadata": {},
          "execution_count": 99
        }
      ]
    },
    {
      "cell_type": "code",
      "source": [
        "#PLOTTING METRICS AS SEABORN\n",
        "import seaborn as sns\n",
        "sns.heatmap(cm, annot=True)"
      ],
      "metadata": {
        "colab": {
          "base_uri": "https://localhost:8080/",
          "height": 283
        },
        "id": "5z9juW0oNcEz",
        "outputId": "0c2581a8-21f4-45a0-edeb-8b85595f7f2b"
      },
      "execution_count": null,
      "outputs": [
        {
          "output_type": "execute_result",
          "data": {
            "text/plain": [
              "<matplotlib.axes._subplots.AxesSubplot at 0x7f1af09420d0>"
            ]
          },
          "metadata": {},
          "execution_count": 100
        },
        {
          "output_type": "display_data",
          "data": {
            "text/plain": [
              "<Figure size 432x288 with 2 Axes>"
            ],
            "image/png": "[encoded data removed]"
          },
          "metadata": {
            "needs_background": "light"
          }
        }
      ]
    },
    {
      "cell_type": "markdown",
      "source": [
        "## **NAIVE BAYES CLASSIFIER**"
      ],
      "metadata": {
        "id": "ZWlMFD5DUrcW"
      }
    },
    {
      "cell_type": "code",
      "source": [
        "#IMPORTING NAIVE BAYES PACKAGE\n",
        "from pyspark.ml.classification import NaiveBayes\n",
        "\n",
        "#SELECTING NORMALIZED COLUMNS FOR MODELLING\n",
        "nb=predictions.select('label','job_encoded_SCALED','marital_encoded_SCALED','loan_encoded_SCALED','default_encoded_SCALED','education_encoded_SCALED','housing_encoded_SCALED','poutcome_encoded_SCALED','features_SCALED',\"prediction\")"
      ],
      "metadata": {
        "id": "NsCY9EAOUpgL"
      },
      "execution_count": null,
      "outputs": []
    },
    {
      "cell_type": "code",
      "source": [
        "#Renaming features_SCALED  to  'features'\n",
        "nb = nb.selectExpr(\"label as label\",\"features_SCALED as features\")\n",
        "nb.show(3)"
      ],
      "metadata": {
        "colab": {
          "base_uri": "https://localhost:8080/"
        },
        "id": "O-8eJuklNpEm",
        "outputId": "62038a43-7554-4f5a-e0f1-f5b841a0879c"
      },
      "execution_count": null,
      "outputs": [
        {
          "output_type": "stream",
          "name": "stdout",
          "text": [
            "+-----+--------------------+\n",
            "|label|            features|\n",
            "+-----+--------------------+\n",
            "|  0.0|(23,[5,10,12,14,1...|\n",
            "|  0.0|(23,[1,10,12,14,1...|\n",
            "|  0.0|(23,[2,10,13,14,1...|\n",
            "+-----+--------------------+\n",
            "only showing top 3 rows\n",
            "\n"
          ]
        }
      ]
    },
    {
      "cell_type": "code",
      "source": [
        "#SPLITTING THE LABEL AND FEATURES DATA AS TRAIN AND TEST DATA\n",
        "train_1, test_1 = nb.randomSplit([0.7, 0.3], seed = 742)"
      ],
      "metadata": {
        "id": "sG1lodg-PIGB"
      },
      "execution_count": null,
      "outputs": []
    },
    {
      "cell_type": "code",
      "source": [
        "#Naive bayes fitting to train and test data\n",
        "#USING MULTINOMIAL METHOD BECAUSE BERNOULLI REQUIRES ONLY BINARY INPUT\n",
        "nb1=NaiveBayes(modelType=\"multinomial\")\n",
        "nbmodel=nb1.fit(train_1)\n",
        "nb_predictions=nbmodel.transform(test_1)\n",
        "\n",
        "nb_evaluator=MulticlassClassificationEvaluator(labelCol=\"label\",predictionCol=\"prediction\",metricName=\"accuracy\")\n",
        "\n",
        "#EVALUATING PREDICTION AND PROBABILITY VALUES\n",
        "nb_accuracy=nb_evaluator.evaluate(nb_predictions)\n",
        "nb_predictions.select( 'label', 'rawPrediction', 'prediction', 'probability').show(10)\n",
        "\n",
        "\n",
        "print(\"Test Area Under ROC: \" + str(evaluator.evaluate(nb_predictions, {evaluator.metricName: \"areaUnderROC\"})))"
      ],
      "metadata": {
        "colab": {
          "base_uri": "https://localhost:8080/"
        },
        "id": "uXSKz8nNN0kb",
        "outputId": "85613c78-8a93-4769-d644-f09ab74363c6"
      },
      "execution_count": null,
      "outputs": [
        {
          "output_type": "stream",
          "name": "stdout",
          "text": [
            "+-----+--------------------+----------+--------------------+\n",
            "|label|       rawPrediction|prediction|         probability|\n",
            "+-----+--------------------+----------+--------------------+\n",
            "|  0.0|[-18.128101289108...|       0.0|[0.71227863685887...|\n",
            "|  0.0|[-18.905025587194...|       0.0|[0.83308795651024...|\n",
            "|  0.0|[-17.210598336493...|       0.0|[0.83078085549233...|\n",
            "|  0.0|[-16.368239992271...|       0.0|[0.82011846673742...|\n",
            "|  0.0|[-18.122511379455...|       0.0|[0.51656396890790...|\n",
            "|  0.0|[-18.379947725811...|       0.0|[0.52612872952829...|\n",
            "|  0.0|[-17.219309198880...|       0.0|[0.54173239419087...|\n",
            "|  0.0|[-19.904541403547...|       0.0|[0.80183300993376...|\n",
            "|  0.0|[-22.618681384194...|       0.0|[0.76733814845131...|\n",
            "|  0.0|[-20.750414292819...|       0.0|[0.80281500588117...|\n",
            "+-----+--------------------+----------+--------------------+\n",
            "only showing top 10 rows\n",
            "\n",
            "Test Area Under ROC: 0.5786054421768712\n"
          ]
        }
      ]
    },
    {
      "cell_type": "code",
      "source": [
        "#CALCULATING ACCURACY\n",
        "print(\"accuracy=%g\" %(nb_accuracy))"
      ],
      "metadata": {
        "colab": {
          "base_uri": "https://localhost:8080/"
        },
        "id": "8H3y3C0fPlYk",
        "outputId": "67184e46-2fd9-4899-a23c-72cff113596f"
      },
      "execution_count": null,
      "outputs": [
        {
          "output_type": "stream",
          "name": "stdout",
          "text": [
            "accuracy=0.74415\n"
          ]
        }
      ]
    },
    {
      "cell_type": "code",
      "source": [
        "#Confusion matrix\n",
        "from pyspark.mllib.evaluation import MulticlassMetrics\n",
        "pred_and_label=nb_predictions.select( 'label', 'prediction').rdd\n",
        "metrics2 = MulticlassMetrics(pred_and_label)\n",
        "print(metrics2.confusionMatrix())"
      ],
      "metadata": {
        "colab": {
          "base_uri": "https://localhost:8080/"
        },
        "id": "8nnmSeiFPryy",
        "outputId": "b0001435-9b46-4f99-aa0c-a28208851f08"
      },
      "execution_count": null,
      "outputs": [
        {
          "output_type": "stream",
          "name": "stdout",
          "text": [
            "DenseMatrix([[386., 109.],\n",
            "             [ 55.,  91.]])\n"
          ]
        }
      ]
    },
    {
      "cell_type": "code",
      "source": [
        "#CALCULATING PRECISION, RECALL AND F1SCORE\n",
        "cm2=metrics2.confusionMatrix().toArray()\n",
        "precision=(cm2[0][0])/(cm2[0][0]+cm2[1][0])\n",
        "recall=(cm2[0][0])/(cm2[0][0]+cm2[0][1])\n",
        "f1score =((2*precision*recall )/ (precision + recall))\n",
        "\n",
        "print(\"NAIVE BAYES model:precision,recall,f1score\",precision,recall,f1score)"
      ],
      "metadata": {
        "colab": {
          "base_uri": "https://localhost:8080/"
        },
        "id": "6ZJIrvx4P9is",
        "outputId": "af5ae8ed-e489-4968-d5eb-f74529e40c46"
      },
      "execution_count": null,
      "outputs": [
        {
          "output_type": "stream",
          "name": "stdout",
          "text": [
            "NAIVE BAYES model:precision,recall,f1score 0.8752834467120182 0.7797979797979798 0.8247863247863249\n"
          ]
        }
      ]
    },
    {
      "cell_type": "code",
      "source": [
        "#plotting heatmap\n",
        "import seaborn as sns\n",
        "sns.heatmap(cm2, annot=True)"
      ],
      "metadata": {
        "colab": {
          "base_uri": "https://localhost:8080/",
          "height": 283
        },
        "id": "6M-IqZFNQEGD",
        "outputId": "dcc536cf-f9dc-4ca2-a782-af90a6eea0a4"
      },
      "execution_count": null,
      "outputs": [
        {
          "output_type": "execute_result",
          "data": {
            "text/plain": [
              "<matplotlib.axes._subplots.AxesSubplot at 0x7f351b32ecd0>"
            ]
          },
          "metadata": {},
          "execution_count": 64
        },
        {
          "output_type": "display_data",
          "data": {
            "text/plain": [
              "<Figure size 432x288 with 2 Axes>"
            ],
            "image/png": "[encoded data removed]"
          },
          "metadata": {
            "needs_background": "light"
          }
        }
      ]
    }
  ],
  "metadata": {
    "colab": {
      "provenance": [],
      "mount_file_id": "1QeFngwC4QkcXKRD6_YlEwDIsES24sPVB",
      "authorship_tag": "ABX9TyP8/7OBbc2aBM8/Z5dD8Vy/",
      "include_colab_link": true
    },
    "kernelspec": {
      "display_name": "Python 3",
      "name": "python3"
    },
    "language_info": {
      "name": "python"
    }
  },
  "nbformat": 4,
  "nbformat_minor": 0
}